{
 "cells": [
  {
   "cell_type": "code",
   "execution_count": 32,
   "metadata": {},
   "outputs": [],
   "source": [
    "import pandas as pd\n",
    "import matplotlib.pyplot as plt\n",
    "import numpy as np"
   ]
  },
  {
   "cell_type": "code",
   "execution_count": 3,
   "metadata": {
    "scrolled": true
   },
   "outputs": [
    {
     "data": {
      "text/html": [
       "<div>\n",
       "<style scoped>\n",
       "    .dataframe tbody tr th:only-of-type {\n",
       "        vertical-align: middle;\n",
       "    }\n",
       "\n",
       "    .dataframe tbody tr th {\n",
       "        vertical-align: top;\n",
       "    }\n",
       "\n",
       "    .dataframe thead th {\n",
       "        text-align: right;\n",
       "    }\n",
       "</style>\n",
       "<table border=\"1\" class=\"dataframe\">\n",
       "  <thead>\n",
       "    <tr style=\"text-align: right;\">\n",
       "      <th></th>\n",
       "      <th>about</th>\n",
       "      <th>created</th>\n",
       "      <th>error</th>\n",
       "      <th>id</th>\n",
       "      <th>karma</th>\n",
       "      <th>submitted</th>\n",
       "    </tr>\n",
       "  </thead>\n",
       "  <tbody>\n",
       "    <tr>\n",
       "      <th>0</th>\n",
       "      <td>NaN</td>\n",
       "      <td>1.510266e+09</td>\n",
       "      <td>NaN</td>\n",
       "      <td>gcgggfxsdg</td>\n",
       "      <td>-1.0</td>\n",
       "      <td>5</td>\n",
       "    </tr>\n",
       "    <tr>\n",
       "      <th>1</th>\n",
       "      <td>Ruby, Open Source, Devops</td>\n",
       "      <td>1.325548e+09</td>\n",
       "      <td>NaN</td>\n",
       "      <td>sheerun</td>\n",
       "      <td>102.0</td>\n",
       "      <td>51</td>\n",
       "    </tr>\n",
       "    <tr>\n",
       "      <th>2</th>\n",
       "      <td>NaN</td>\n",
       "      <td>1.459331e+09</td>\n",
       "      <td>NaN</td>\n",
       "      <td>keypress</td>\n",
       "      <td>79.0</td>\n",
       "      <td>70</td>\n",
       "    </tr>\n",
       "    <tr>\n",
       "      <th>3</th>\n",
       "      <td>[ my public key: https:&amp;#x2F;&amp;#x2F;keybase.io&amp;...</td>\n",
       "      <td>1.379698e+09</td>\n",
       "      <td>NaN</td>\n",
       "      <td>pyprism</td>\n",
       "      <td>1356.0</td>\n",
       "      <td>114</td>\n",
       "    </tr>\n",
       "    <tr>\n",
       "      <th>4</th>\n",
       "      <td>Email: ejstronge@gmail.com\\nGithub: https:&amp;#x2...</td>\n",
       "      <td>1.355740e+09</td>\n",
       "      <td>NaN</td>\n",
       "      <td>ejstronge</td>\n",
       "      <td>460.0</td>\n",
       "      <td>144</td>\n",
       "    </tr>\n",
       "    <tr>\n",
       "      <th>5</th>\n",
       "      <td>NaN</td>\n",
       "      <td>1.276201e+09</td>\n",
       "      <td>NaN</td>\n",
       "      <td>akira2501</td>\n",
       "      <td>880.0</td>\n",
       "      <td>304</td>\n",
       "    </tr>\n",
       "    <tr>\n",
       "      <th>6</th>\n",
       "      <td>NaN</td>\n",
       "      <td>1.382222e+09</td>\n",
       "      <td>NaN</td>\n",
       "      <td>matchagaucho</td>\n",
       "      <td>412.0</td>\n",
       "      <td>228</td>\n",
       "    </tr>\n",
       "    <tr>\n",
       "      <th>7</th>\n",
       "      <td>NaN</td>\n",
       "      <td>1.330724e+09</td>\n",
       "      <td>NaN</td>\n",
       "      <td>bberrry</td>\n",
       "      <td>273.0</td>\n",
       "      <td>49</td>\n",
       "    </tr>\n",
       "    <tr>\n",
       "      <th>8</th>\n",
       "      <td>NaN</td>\n",
       "      <td>1.475393e+09</td>\n",
       "      <td>NaN</td>\n",
       "      <td>sharjeelsidd</td>\n",
       "      <td>1.0</td>\n",
       "      <td>1</td>\n",
       "    </tr>\n",
       "    <tr>\n",
       "      <th>9</th>\n",
       "      <td>github.com&amp;#x2F;allcentury</td>\n",
       "      <td>1.389810e+09</td>\n",
       "      <td>NaN</td>\n",
       "      <td>allcentury</td>\n",
       "      <td>56.0</td>\n",
       "      <td>41</td>\n",
       "    </tr>\n",
       "  </tbody>\n",
       "</table>\n",
       "</div>"
      ],
      "text/plain": [
       "                                               about       created error  \\\n",
       "0                                                NaN  1.510266e+09   NaN   \n",
       "1                          Ruby, Open Source, Devops  1.325548e+09   NaN   \n",
       "2                                                NaN  1.459331e+09   NaN   \n",
       "3  [ my public key: https:&#x2F;&#x2F;keybase.io&...  1.379698e+09   NaN   \n",
       "4  Email: ejstronge@gmail.com\\nGithub: https:&#x2...  1.355740e+09   NaN   \n",
       "5                                                NaN  1.276201e+09   NaN   \n",
       "6                                                NaN  1.382222e+09   NaN   \n",
       "7                                                NaN  1.330724e+09   NaN   \n",
       "8                                                NaN  1.475393e+09   NaN   \n",
       "9                         github.com&#x2F;allcentury  1.389810e+09   NaN   \n",
       "\n",
       "             id   karma  submitted  \n",
       "0    gcgggfxsdg    -1.0          5  \n",
       "1       sheerun   102.0         51  \n",
       "2      keypress    79.0         70  \n",
       "3       pyprism  1356.0        114  \n",
       "4     ejstronge   460.0        144  \n",
       "5     akira2501   880.0        304  \n",
       "6  matchagaucho   412.0        228  \n",
       "7       bberrry   273.0         49  \n",
       "8  sharjeelsidd     1.0          1  \n",
       "9    allcentury    56.0         41  "
      ]
     },
     "execution_count": 3,
     "metadata": {},
     "output_type": "execute_result"
    }
   ],
   "source": [
    "url = 'https://raw.githubusercontent.com/datsoftlyngby/soft2019spring-ai/master/projects/project1/users.json'\n",
    "df = pd.read_json(url)\n",
    "df.head(10)"
   ]
  },
  {
   "cell_type": "code",
   "execution_count": 4,
   "metadata": {},
   "outputs": [],
   "source": [
    "xtime = df.loc[:, 'created']\n",
    "df = df[df['created'].notnull()]\n",
    "X = np.array(df['created']).reshape(9299, 1)"
   ]
  },
  {
   "cell_type": "code",
   "execution_count": 5,
   "metadata": {},
   "outputs": [],
   "source": [
    "ypoint = df.loc[:, 'karma']\n",
    "df = df[df['karma'].notnull()]\n",
    "y = np.array(df['karma'])"
   ]
  },
  {
   "cell_type": "code",
   "execution_count": 6,
   "metadata": {
    "scrolled": true
   },
   "outputs": [
    {
     "data": {
      "text/plain": [
       "[<matplotlib.lines.Line2D at 0x11a0944e0>]"
      ]
     },
     "execution_count": 6,
     "metadata": {},
     "output_type": "execute_result"
    },
    {
     "data": {
      "image/png": "[encoded data removed]",
      "text/plain": [
       "<Figure size 432x288 with 1 Axes>"
      ]
     },
     "metadata": {
      "needs_background": "light"
     },
     "output_type": "display_data"
    }
   ],
   "source": [
    "plt.plot(X, y, '.')"
   ]
  },
  {
   "cell_type": "markdown",
   "metadata": {},
   "source": [
    "Model Selection: We've chosen to use a linear regression model because we can't exactly determine a correlation between the points gained and the time it takes to get to 1000, so we go with the suggested model by the assignment"
   ]
  },
  {
   "cell_type": "code",
   "execution_count": 7,
   "metadata": {},
   "outputs": [],
   "source": [
    "from sklearn.linear_model import LinearRegression\n",
    "from sklearn.model_selection import train_test_split\n",
    "\n",
    "X_train, X_test, y_train, y_test = train_test_split(X, y, test_size=0.33, random_state=42, shuffle=True)"
   ]
  },
  {
   "cell_type": "code",
   "execution_count": 8,
   "metadata": {},
   "outputs": [
    {
     "data": {
      "text/plain": [
       "LinearRegression(copy_X=True, fit_intercept=True, n_jobs=None,\n",
       "         normalize=False)"
      ]
     },
     "execution_count": 8,
     "metadata": {},
     "output_type": "execute_result"
    }
   ],
   "source": [
    "model = LinearRegression()\n",
    "model.fit(X_train, y_train)"
   ]
  },
  {
   "cell_type": "code",
   "execution_count": 9,
   "metadata": {},
   "outputs": [
    {
     "data": {
      "text/plain": [
       "array([6790.37378978, 7537.20219236, 7154.23331371, ..., 4639.63369152,\n",
       "       5896.96447282, 5905.49106938])"
      ]
     },
     "execution_count": 9,
     "metadata": {},
     "output_type": "execute_result"
    }
   ],
   "source": [
    "prediction = model.predict(X_test)\n",
    "prediction"
   ]
  },
  {
   "cell_type": "code",
   "execution_count": 10,
   "metadata": {},
   "outputs": [
    {
     "data": {
      "text/plain": [
       "3069"
      ]
     },
     "execution_count": 10,
     "metadata": {},
     "output_type": "execute_result"
    }
   ],
   "source": [
    "len(prediction)"
   ]
  },
  {
   "cell_type": "code",
   "execution_count": 11,
   "metadata": {},
   "outputs": [
    {
     "name": "stdout",
     "output_type": "stream",
     "text": [
      "Coefficient: [-3.70900589e-05]\n",
      "Intercept: 55271.935993934676\n"
     ]
    }
   ],
   "source": [
    "coefficient = model.coef_\n",
    "intercept = model.intercept_\n",
    "print (\"Coefficient:\",coefficient)\n",
    "print (\"Intercept:\",intercept)"
   ]
  },
  {
   "cell_type": "code",
   "execution_count": 116,
   "metadata": {},
   "outputs": [
    {
     "data": {
      "text/plain": [
       "[<matplotlib.lines.Line2D at 0x1a29f30588>]"
      ]
     },
     "execution_count": 116,
     "metadata": {},
     "output_type": "execute_result"
    },
    {
     "data": {
      "image/png": "[encoded data removed]",
      "text/plain": [
       "<Figure size 432x288 with 1 Axes>"
      ]
     },
     "metadata": {
      "needs_background": "light"
     },
     "output_type": "display_data"
    }
   ],
   "source": [
    "y_pred = prediction\n",
    "plt.plot(X_test, y_pred)"
   ]
  },
  {
   "cell_type": "markdown",
   "metadata": {},
   "source": [
    "Part 2"
   ]
  },
  {
   "cell_type": "code",
   "execution_count": 13,
   "metadata": {},
   "outputs": [],
   "source": [
    "zpost = df.loc[:, 'submitted']\n",
    "df = df[df['submitted'].notnull()]\n",
    "Z = np.array(df['submitted']).reshape(9299, 1)"
   ]
  },
  {
   "cell_type": "code",
   "execution_count": 14,
   "metadata": {},
   "outputs": [
    {
     "data": {
      "text/plain": [
       "[<matplotlib.lines.Line2D at 0x11b5c0fd0>]"
      ]
     },
     "execution_count": 14,
     "metadata": {},
     "output_type": "execute_result"
    },
    {
     "data": {
      "image/png": "[encoded data removed]",
      "text/plain": [
       "<Figure size 432x288 with 1 Axes>"
      ]
     },
     "metadata": {
      "needs_background": "light"
     },
     "output_type": "display_data"
    }
   ],
   "source": [
    "plt.plot(Z, y, '.')"
   ]
  },
  {
   "cell_type": "code",
   "execution_count": 15,
   "metadata": {},
   "outputs": [],
   "source": [
    "Z_train, Z_test, yz_train, yz_test = train_test_split(Z, y, test_size=0.33, random_state=42, shuffle=True)"
   ]
  },
  {
   "cell_type": "code",
   "execution_count": 16,
   "metadata": {},
   "outputs": [
    {
     "data": {
      "text/plain": [
       "LinearRegression(copy_X=True, fit_intercept=True, n_jobs=None,\n",
       "         normalize=False)"
      ]
     },
     "execution_count": 16,
     "metadata": {},
     "output_type": "execute_result"
    }
   ],
   "source": [
    "model_z = LinearRegression()\n",
    "model_z.fit(Z_train, yz_train)"
   ]
  },
  {
   "cell_type": "code",
   "execution_count": 17,
   "metadata": {},
   "outputs": [
    {
     "data": {
      "text/plain": [
       "array([47095.14228734,  1122.05981496,   264.09487808, ...,\n",
       "        1459.71053205,  8564.21373514,  3950.57647782])"
      ]
     },
     "execution_count": 17,
     "metadata": {},
     "output_type": "execute_result"
    }
   ],
   "source": [
    "prediction_z = model_z.predict(Z_test)\n",
    "prediction_z"
   ]
  },
  {
   "cell_type": "code",
   "execution_count": 18,
   "metadata": {},
   "outputs": [
    {
     "data": {
      "text/plain": [
       "3069"
      ]
     },
     "execution_count": 18,
     "metadata": {},
     "output_type": "execute_result"
    }
   ],
   "source": [
    "len(prediction_z)"
   ]
  },
  {
   "cell_type": "code",
   "execution_count": 19,
   "metadata": {},
   "outputs": [
    {
     "name": "stdout",
     "output_type": "stream",
     "text": [
      "Coefficient: [2.76762883]\n",
      "Intercept: 214.27755916513388\n"
     ]
    }
   ],
   "source": [
    "coefficient_z = model_z.coef_\n",
    "intercept_z = model_z.intercept_\n",
    "print (\"Coefficient:\",coefficient_z)\n",
    "print (\"Intercept:\",intercept_z)"
   ]
  },
  {
   "cell_type": "code",
   "execution_count": 118,
   "metadata": {},
   "outputs": [
    {
     "data": {
      "text/plain": [
       "[<matplotlib.lines.Line2D at 0x1a29ecce80>]"
      ]
     },
     "execution_count": 118,
     "metadata": {},
     "output_type": "execute_result"
    },
    {
     "data": {
      "image/png": "[encoded data removed]",
      "text/plain": [
       "<Figure size 432x288 with 1 Axes>"
      ]
     },
     "metadata": {
      "needs_background": "light"
     },
     "output_type": "display_data"
    }
   ],
   "source": [
    "yz_pred = prediction_z\n",
    "plt.plot(Z_test, yz_pred)"
   ]
  },
  {
   "cell_type": "markdown",
   "metadata": {},
   "source": [
    "Using sklearn with multidimensional input and output samples (e.g. vectors)"
   ]
  },
  {
   "cell_type": "code",
   "execution_count": 21,
   "metadata": {},
   "outputs": [],
   "source": [
    "X_1 = X.flatten()\n",
    "X_2 = Z.flatten()\n",
    "Y = y.flatten()"
   ]
  },
  {
   "cell_type": "code",
   "execution_count": 22,
   "metadata": {},
   "outputs": [],
   "source": [
    "from pandas import DataFrame \n",
    "\n",
    "modelxyz = {'created': X_1, 'submitted': X_2, 'karma': Y}\n",
    "df_m = DataFrame(modelxyz, columns=['created','submitted','karma'])\n",
    "X_mutil = df_m[['created','submitted']].astype(object)\n",
    "y_mutil = df_m['karma'].astype(object)"
   ]
  },
  {
   "cell_type": "code",
   "execution_count": 23,
   "metadata": {},
   "outputs": [],
   "source": [
    "X_trainMutil, X_testMutil, y_trainMutil, y_testMutil = train_test_split(X_mutil, y_mutil, test_size=0.33, random_state=42, shuffle=True)"
   ]
  },
  {
   "cell_type": "code",
   "execution_count": 24,
   "metadata": {},
   "outputs": [
    {
     "data": {
      "text/plain": [
       "LinearRegression(copy_X=True, fit_intercept=True, n_jobs=None,\n",
       "         normalize=False)"
      ]
     },
     "execution_count": 24,
     "metadata": {},
     "output_type": "execute_result"
    }
   ],
   "source": [
    "modelMutil = LinearRegression()\n",
    "modelMutil.fit(X_trainMutil, y_trainMutil)"
   ]
  },
  {
   "cell_type": "code",
   "execution_count": 25,
   "metadata": {},
   "outputs": [
    {
     "data": {
      "text/plain": [
       "array([46330.21478189,  1790.29855459,   893.28291085, ...,\n",
       "        1637.98991383,  8748.5827471 ,  4267.76016908])"
      ]
     },
     "execution_count": 25,
     "metadata": {},
     "output_type": "execute_result"
    }
   ],
   "source": [
    "predictionMutil = modelMutil.predict(X_testMutil)\n",
    "predictionMutil"
   ]
  },
  {
   "cell_type": "code",
   "execution_count": 26,
   "metadata": {},
   "outputs": [
    {
     "data": {
      "text/plain": [
       "3069"
      ]
     },
     "execution_count": 26,
     "metadata": {},
     "output_type": "execute_result"
    }
   ],
   "source": [
    "len(predictionMutil)"
   ]
  },
  {
   "cell_type": "code",
   "execution_count": 27,
   "metadata": {},
   "outputs": [
    {
     "name": "stdout",
     "output_type": "stream",
     "text": [
      "Coefficient: [-6.14858271e-06  2.68880388e+00]\n",
      "Intercept: 8821.568305901803\n"
     ]
    }
   ],
   "source": [
    "coefficientMutil = modelMutil.coef_\n",
    "interceptMutil = modelMutil.intercept_\n",
    "print (\"Coefficient:\",coefficientMutil)\n",
    "print (\"Intercept:\",interceptMutil)"
   ]
  },
  {
   "cell_type": "markdown",
   "metadata": {},
   "source": [
    "3D"
   ]
  },
  {
   "cell_type": "code",
   "execution_count": 28,
   "metadata": {},
   "outputs": [],
   "source": [
    "from mpl_toolkits.mplot3d import Axes3D\n",
    "import statsmodels.formula.api as smf"
   ]
  },
  {
   "cell_type": "code",
   "execution_count": 29,
   "metadata": {},
   "outputs": [
    {
     "data": {
      "text/plain": [
       "Intercept    3291.708305\n",
       "created        -0.000002\n",
       "karma           0.250053\n",
       "dtype: float64"
      ]
     },
     "execution_count": 29,
     "metadata": {},
     "output_type": "execute_result"
    }
   ],
   "source": [
    "model3D = smf.ols(formula='submitted ~ created + karma', data=df_m)\n",
    "results_formula = model3D.fit()\n",
    "results_formula.params"
   ]
  },
  {
   "cell_type": "code",
   "execution_count": 30,
   "metadata": {},
   "outputs": [],
   "source": [
    "x_surf, y_surf = np.meshgrid(np.linspace(df_m.created.min(), df_m.created.max(), 100),np.linspace(df_m.karma.min(), df_m.karma.max(), 100))\n",
    "onlyX = DataFrame({'created': x_surf.ravel(), 'karma': y_surf.ravel()})\n",
    "fittedY = results_formula.predict(exog=onlyX)"
   ]
  },
  {
   "cell_type": "code",
   "execution_count": 33,
   "metadata": {},
   "outputs": [
    {
     "data": {
      "application/javascript": [
       "/* Put everything inside the global mpl namespace */\n",
       "window.mpl = {};\n",
       "\n",
       "\n",
       "mpl.get_websocket_type = function() {\n",
       "    if (typeof(WebSocket) !== 'undefined') {\n",
       "        return WebSocket;\n",
       "    } else if (typeof(MozWebSocket) !== 'undefined') {\n",
       "        return MozWebSocket;\n",
       "    } else {\n",
       "        alert('Your browser does not have WebSocket support.' +\n",
       "              'Please try Chrome, Safari or Firefox ≥ 6. ' +\n",
       "              'Firefox 4 and 5 are also supported but you ' +\n",
       "              'have to enable WebSockets in about:config.');\n",
       "    };\n",
       "}\n",
       "\n",
       "mpl.figure = function(figure_id, websocket, ondownload, parent_element) {\n",
       "    this.id = figure_id;\n",
       "\n",
       "    this.ws = websocket;\n",
       "\n",
       "    this.supports_binary = (this.ws.binaryType != undefined);\n",
       "\n",
       "    if (!this.supports_binary) {\n",
       "        var warnings = document.getElementById(\"mpl-warnings\");\n",
       "        if (warnings) {\n",
       "            warnings.style.display = 'block';\n",
       "            warnings.textContent = (\n",
       "                \"This browser does not support binary websocket messages. \" +\n",
       "                    \"Performance may be slow.\");\n",
       "        }\n",
       "    }\n",
       "\n",
       "    this.imageObj = new Image();\n",
       "\n",
       "    this.context = undefined;\n",
       "    this.message = undefined;\n",
       "    this.canvas = undefined;\n",
       "    this.rubberband_canvas = undefined;\n",
       "    this.rubberband_context = undefined;\n",
       "    this.format_dropdown = undefined;\n",
       "\n",
       "    this.image_mode = 'full';\n",
       "\n",
       "    this.root = $('<div/>');\n",
       "    this._root_extra_style(this.root)\n",
       "    this.root.attr('style', 'display: inline-block');\n",
       "\n",
       "    $(parent_element).append(this.root);\n",
       "\n",
       "    this._init_header(this);\n",
       "    this._init_canvas(this);\n",
       "    this._init_toolbar(this);\n",
       "\n",
       "    var fig = this;\n",
       "\n",
       "    this.waiting = false;\n",
       "\n",
       "    this.ws.onopen =  function () {\n",
       "            fig.send_message(\"supports_binary\", {value: fig.supports_binary});\n",
       "            fig.send_message(\"send_image_mode\", {});\n",
       "            if (mpl.ratio != 1) {\n",
       "                fig.send_message(\"set_dpi_ratio\", {'dpi_ratio': mpl.ratio});\n",
       "            }\n",
       "            fig.send_message(\"refresh\", {});\n",
       "        }\n",
       "\n",
       "    this.imageObj.onload = function() {\n",
       "            if (fig.image_mode == 'full') {\n",
       "                // Full images could contain transparency (where diff images\n",
       "                // almost always do), so we need to clear the canvas so that\n",
       "                // there is no ghosting.\n",
       "                fig.context.clearRect(0, 0, fig.canvas.width, fig.canvas.height);\n",
       "            }\n",
       "            fig.context.drawImage(fig.imageObj, 0, 0);\n",
       "        };\n",
       "\n",
       "    this.imageObj.onunload = function() {\n",
       "        fig.ws.close();\n",
       "    }\n",
       "\n",
       "    this.ws.onmessage = this._make_on_message_function(this);\n",
       "\n",
       "    this.ondownload = ondownload;\n",
       "}\n",
       "\n",
       "mpl.figure.prototype._init_header = function() {\n",
       "    var titlebar = $(\n",
       "        '<div class=\"ui-dialog-titlebar ui-widget-header ui-corner-all ' +\n",
       "        'ui-helper-clearfix\"/>');\n",
       "    var titletext = $(\n",
       "        '<div class=\"ui-dialog-title\" style=\"width: 100%; ' +\n",
       "        'text-align: center; padding: 3px;\"/>');\n",
       "    titlebar.append(titletext)\n",
       "    this.root.append(titlebar);\n",
       "    this.header = titletext[0];\n",
       "}\n",
       "\n",
       "\n",
       "\n",
       "mpl.figure.prototype._canvas_extra_style = function(canvas_div) {\n",
       "\n",
       "}\n",
       "\n",
       "\n",
       "mpl.figure.prototype._root_extra_style = function(canvas_div) {\n",
       "\n",
       "}\n",
       "\n",
       "mpl.figure.prototype._init_canvas = function() {\n",
       "    var fig = this;\n",
       "\n",
       "    var canvas_div = $('<div/>');\n",
       "\n",
       "    canvas_div.attr('style', 'position: relative; clear: both; outline: 0');\n",
       "\n",
       "    function canvas_keyboard_event(event) {\n",
       "        return fig.key_event(event, event['data']);\n",
       "    }\n",
       "\n",
       "    canvas_div.keydown('key_press', canvas_keyboard_event);\n",
       "    canvas_div.keyup('key_release', canvas_keyboard_event);\n",
       "    this.canvas_div = canvas_div\n",
       "    this._canvas_extra_style(canvas_div)\n",
       "    this.root.append(canvas_div);\n",
       "\n",
       "    var canvas = $('<canvas/>');\n",
       "    canvas.addClass('mpl-canvas');\n",
       "    canvas.attr('style', \"left: 0; top: 0; z-index: 0; outline: 0\")\n",
       "\n",
       "    this.canvas = canvas[0];\n",
       "    this.context = canvas[0].getContext(\"2d\");\n",
       "\n",
       "    var backingStore = this.context.backingStorePixelRatio ||\n",
       "\tthis.context.webkitBackingStorePixelRatio ||\n",
       "\tthis.context.mozBackingStorePixelRatio ||\n",
       "\tthis.context.msBackingStorePixelRatio ||\n",
       "\tthis.context.oBackingStorePixelRatio ||\n",
       "\tthis.context.backingStorePixelRatio || 1;\n",
       "\n",
       "    mpl.ratio = (window.devicePixelRatio || 1) / backingStore;\n",
       "\n",
       "    var rubberband = $('<canvas/>');\n",
       "    rubberband.attr('style', \"position: absolute; left: 0; top: 0; z-index: 1;\")\n",
       "\n",
       "    var pass_mouse_events = true;\n",
       "\n",
       "    canvas_div.resizable({\n",
       "        start: function(event, ui) {\n",
       "            pass_mouse_events = false;\n",
       "        },\n",
       "        resize: function(event, ui) {\n",
       "            fig.request_resize(ui.size.width, ui.size.height);\n",
       "        },\n",
       "        stop: function(event, ui) {\n",
       "            pass_mouse_events = true;\n",
       "            fig.request_resize(ui.size.width, ui.size.height);\n",
       "        },\n",
       "    });\n",
       "\n",
       "    function mouse_event_fn(event) {\n",
       "        if (pass_mouse_events)\n",
       "            return fig.mouse_event(event, event['data']);\n",
       "    }\n",
       "\n",
       "    rubberband.mousedown('button_press', mouse_event_fn);\n",
       "    rubberband.mouseup('button_release', mouse_event_fn);\n",
       "    // Throttle sequential mouse events to 1 every 20ms.\n",
       "    rubberband.mousemove('motion_notify', mouse_event_fn);\n",
       "\n",
       "    rubberband.mouseenter('figure_enter', mouse_event_fn);\n",
       "    rubberband.mouseleave('figure_leave', mouse_event_fn);\n",
       "\n",
       "    canvas_div.on(\"wheel\", function (event) {\n",
       "        event = event.originalEvent;\n",
       "        event['data'] = 'scroll'\n",
       "        if (event.deltaY < 0) {\n",
       "            event.step = 1;\n",
       "        } else {\n",
       "            event.step = -1;\n",
       "        }\n",
       "        mouse_event_fn(event);\n",
       "    });\n",
       "\n",
       "    canvas_div.append(canvas);\n",
       "    canvas_div.append(rubberband);\n",
       "\n",
       "    this.rubberband = rubberband;\n",
       "    this.rubberband_canvas = rubberband[0];\n",
       "    this.rubberband_context = rubberband[0].getContext(\"2d\");\n",
       "    this.rubberband_context.strokeStyle = \"#000000\";\n",
       "\n",
       "    this._resize_canvas = function(width, height) {\n",
       "        // Keep the size of the canvas, canvas container, and rubber band\n",
       "        // canvas in synch.\n",
       "        canvas_div.css('width', width)\n",
       "        canvas_div.css('height', height)\n",
       "\n",
       "        canvas.attr('width', width * mpl.ratio);\n",
       "        canvas.attr('height', height * mpl.ratio);\n",
       "        canvas.attr('style', 'width: ' + width + 'px; height: ' + height + 'px;');\n",
       "\n",
       "        rubberband.attr('width', width);\n",
       "        rubberband.attr('height', height);\n",
       "    }\n",
       "\n",
       "    // Set the figure to an initial 600x600px, this will subsequently be updated\n",
       "    // upon first draw.\n",
       "    this._resize_canvas(600, 600);\n",
       "\n",
       "    // Disable right mouse context menu.\n",
       "    $(this.rubberband_canvas).bind(\"contextmenu\",function(e){\n",
       "        return false;\n",
       "    });\n",
       "\n",
       "    function set_focus () {\n",
       "        canvas.focus();\n",
       "        canvas_div.focus();\n",
       "    }\n",
       "\n",
       "    window.setTimeout(set_focus, 100);\n",
       "}\n",
       "\n",
       "mpl.figure.prototype._init_toolbar = function() {\n",
       "    var fig = this;\n",
       "\n",
       "    var nav_element = $('<div/>')\n",
       "    nav_element.attr('style', 'width: 100%');\n",
       "    this.root.append(nav_element);\n",
       "\n",
       "    // Define a callback function for later on.\n",
       "    function toolbar_event(event) {\n",
       "        return fig.toolbar_button_onclick(event['data']);\n",
       "    }\n",
       "    function toolbar_mouse_event(event) {\n",
       "        return fig.toolbar_button_onmouseover(event['data']);\n",
       "    }\n",
       "\n",
       "    for(var toolbar_ind in mpl.toolbar_items) {\n",
       "        var name = mpl.toolbar_items[toolbar_ind][0];\n",
       "        var tooltip = mpl.toolbar_items[toolbar_ind][1];\n",
       "        var image = mpl.toolbar_items[toolbar_ind][2];\n",
       "        var method_name = mpl.toolbar_items[toolbar_ind][3];\n",
       "\n",
       "        if (!name) {\n",
       "            // put a spacer in here.\n",
       "            continue;\n",
       "        }\n",
       "        var button = $('<button/>');\n",
       "        button.addClass('ui-button ui-widget ui-state-default ui-corner-all ' +\n",
       "                        'ui-button-icon-only');\n",
       "        button.attr('role', 'button');\n",
       "        button.attr('aria-disabled', 'false');\n",
       "        button.click(method_name, toolbar_event);\n",
       "        button.mouseover(tooltip, toolbar_mouse_event);\n",
       "\n",
       "        var icon_img = $('<span/>');\n",
       "        icon_img.addClass('ui-button-icon-primary ui-icon');\n",
       "        icon_img.addClass(image);\n",
       "        icon_img.addClass('ui-corner-all');\n",
       "\n",
       "        var tooltip_span = $('<span/>');\n",
       "        tooltip_span.addClass('ui-button-text');\n",
       "        tooltip_span.html(tooltip);\n",
       "\n",
       "        button.append(icon_img);\n",
       "        button.append(tooltip_span);\n",
       "\n",
       "        nav_element.append(button);\n",
       "    }\n",
       "\n",
       "    var fmt_picker_span = $('<span/>');\n",
       "\n",
       "    var fmt_picker = $('<select/>');\n",
       "    fmt_picker.addClass('mpl-toolbar-option ui-widget ui-widget-content');\n",
       "    fmt_picker_span.append(fmt_picker);\n",
       "    nav_element.append(fmt_picker_span);\n",
       "    this.format_dropdown = fmt_picker[0];\n",
       "\n",
       "    for (var ind in mpl.extensions) {\n",
       "        var fmt = mpl.extensions[ind];\n",
       "        var option = $(\n",
       "            '<option/>', {selected: fmt === mpl.default_extension}).html(fmt);\n",
       "        fmt_picker.append(option)\n",
       "    }\n",
       "\n",
       "    // Add hover states to the ui-buttons\n",
       "    $( \".ui-button\" ).hover(\n",
       "        function() { $(this).addClass(\"ui-state-hover\");},\n",
       "        function() { $(this).removeClass(\"ui-state-hover\");}\n",
       "    );\n",
       "\n",
       "    var status_bar = $('<span class=\"mpl-message\"/>');\n",
       "    nav_element.append(status_bar);\n",
       "    this.message = status_bar[0];\n",
       "}\n",
       "\n",
       "mpl.figure.prototype.request_resize = function(x_pixels, y_pixels) {\n",
       "    // Request matplotlib to resize the figure. Matplotlib will then trigger a resize in the client,\n",
       "    // which will in turn request a refresh of the image.\n",
       "    this.send_message('resize', {'width': x_pixels, 'height': y_pixels});\n",
       "}\n",
       "\n",
       "mpl.figure.prototype.send_message = function(type, properties) {\n",
       "    properties['type'] = type;\n",
       "    properties['figure_id'] = this.id;\n",
       "    this.ws.send(JSON.stringify(properties));\n",
       "}\n",
       "\n",
       "mpl.figure.prototype.send_draw_message = function() {\n",
       "    if (!this.waiting) {\n",
       "        this.waiting = true;\n",
       "        this.ws.send(JSON.stringify({type: \"draw\", figure_id: this.id}));\n",
       "    }\n",
       "}\n",
       "\n",
       "\n",
       "mpl.figure.prototype.handle_save = function(fig, msg) {\n",
       "    var format_dropdown = fig.format_dropdown;\n",
       "    var format = format_dropdown.options[format_dropdown.selectedIndex].value;\n",
       "    fig.ondownload(fig, format);\n",
       "}\n",
       "\n",
       "\n",
       "mpl.figure.prototype.handle_resize = function(fig, msg) {\n",
       "    var size = msg['size'];\n",
       "    if (size[0] != fig.canvas.width || size[1] != fig.canvas.height) {\n",
       "        fig._resize_canvas(size[0], size[1]);\n",
       "        fig.send_message(\"refresh\", {});\n",
       "    };\n",
       "}\n",
       "\n",
       "mpl.figure.prototype.handle_rubberband = function(fig, msg) {\n",
       "    var x0 = msg['x0'] / mpl.ratio;\n",
       "    var y0 = (fig.canvas.height - msg['y0']) / mpl.ratio;\n",
       "    var x1 = msg['x1'] / mpl.ratio;\n",
       "    var y1 = (fig.canvas.height - msg['y1']) / mpl.ratio;\n",
       "    x0 = Math.floor(x0) + 0.5;\n",
       "    y0 = Math.floor(y0) + 0.5;\n",
       "    x1 = Math.floor(x1) + 0.5;\n",
       "    y1 = Math.floor(y1) + 0.5;\n",
       "    var min_x = Math.min(x0, x1);\n",
       "    var min_y = Math.min(y0, y1);\n",
       "    var width = Math.abs(x1 - x0);\n",
       "    var height = Math.abs(y1 - y0);\n",
       "\n",
       "    fig.rubberband_context.clearRect(\n",
       "        0, 0, fig.canvas.width, fig.canvas.height);\n",
       "\n",
       "    fig.rubberband_context.strokeRect(min_x, min_y, width, height);\n",
       "}\n",
       "\n",
       "mpl.figure.prototype.handle_figure_label = function(fig, msg) {\n",
       "    // Updates the figure title.\n",
       "    fig.header.textContent = msg['label'];\n",
       "}\n",
       "\n",
       "mpl.figure.prototype.handle_cursor = function(fig, msg) {\n",
       "    var cursor = msg['cursor'];\n",
       "    switch(cursor)\n",
       "    {\n",
       "    case 0:\n",
       "        cursor = 'pointer';\n",
       "        break;\n",
       "    case 1:\n",
       "        cursor = 'default';\n",
       "        break;\n",
       "    case 2:\n",
       "        cursor = 'crosshair';\n",
       "        break;\n",
       "    case 3:\n",
       "        cursor = 'move';\n",
       "        break;\n",
       "    }\n",
       "    fig.rubberband_canvas.style.cursor = cursor;\n",
       "}\n",
       "\n",
       "mpl.figure.prototype.handle_message = function(fig, msg) {\n",
       "    fig.message.textContent = msg['message'];\n",
       "}\n",
       "\n",
       "mpl.figure.prototype.handle_draw = function(fig, msg) {\n",
       "    // Request the server to send over a new figure.\n",
       "    fig.send_draw_message();\n",
       "}\n",
       "\n",
       "mpl.figure.prototype.handle_image_mode = function(fig, msg) {\n",
       "    fig.image_mode = msg['mode'];\n",
       "}\n",
       "\n",
       "mpl.figure.prototype.updated_canvas_event = function() {\n",
       "    // Called whenever the canvas gets updated.\n",
       "    this.send_message(\"ack\", {});\n",
       "}\n",
       "\n",
       "// A function to construct a web socket function for onmessage handling.\n",
       "// Called in the figure constructor.\n",
       "mpl.figure.prototype._make_on_message_function = function(fig) {\n",
       "    return function socket_on_message(evt) {\n",
       "        if (evt.data instanceof Blob) {\n",
       "            /* FIXME: We get \"Resource interpreted as Image but\n",
       "             * transferred with MIME type text/plain:\" errors on\n",
       "             * Chrome.  But how to set the MIME type?  It doesn't seem\n",
       "             * to be part of the websocket stream */\n",
       "            evt.data.type = \"image/png\";\n",
       "\n",
       "            /* Free the memory for the previous frames */\n",
       "            if (fig.imageObj.src) {\n",
       "                (window.URL || window.webkitURL).revokeObjectURL(\n",
       "                    fig.imageObj.src);\n",
       "            }\n",
       "\n",
       "            fig.imageObj.src = (window.URL || window.webkitURL).createObjectURL(\n",
       "                evt.data);\n",
       "            fig.updated_canvas_event();\n",
       "            fig.waiting = false;\n",
       "            return;\n",
       "        }\n",
       "        else if (typeof evt.data === 'string' && evt.data.slice(0, 21) == \"data:image/png;base64\") {\n",
       "            fig.imageObj.src = evt.data;\n",
       "            fig.updated_canvas_event();\n",
       "            fig.waiting = false;\n",
       "            return;\n",
       "        }\n",
       "\n",
       "        var msg = JSON.parse(evt.data);\n",
       "        var msg_type = msg['type'];\n",
       "\n",
       "        // Call the  \"handle_{type}\" callback, which takes\n",
       "        // the figure and JSON message as its only arguments.\n",
       "        try {\n",
       "            var callback = fig[\"handle_\" + msg_type];\n",
       "        } catch (e) {\n",
       "            console.log(\"No handler for the '\" + msg_type + \"' message type: \", msg);\n",
       "            return;\n",
       "        }\n",
       "\n",
       "        if (callback) {\n",
       "            try {\n",
       "                // console.log(\"Handling '\" + msg_type + \"' message: \", msg);\n",
       "                callback(fig, msg);\n",
       "            } catch (e) {\n",
       "                console.log(\"Exception inside the 'handler_\" + msg_type + \"' callback:\", e, e.stack, msg);\n",
       "            }\n",
       "        }\n",
       "    };\n",
       "}\n",
       "\n",
       "// from http://stackoverflow.com/questions/1114465/getting-mouse-location-in-canvas\n",
       "mpl.findpos = function(e) {\n",
       "    //this section is from http://www.quirksmode.org/js/events_properties.html\n",
       "    var targ;\n",
       "    if (!e)\n",
       "        e = window.event;\n",
       "    if (e.target)\n",
       "        targ = e.target;\n",
       "    else if (e.srcElement)\n",
       "        targ = e.srcElement;\n",
       "    if (targ.nodeType == 3) // defeat Safari bug\n",
       "        targ = targ.parentNode;\n",
       "\n",
       "    // jQuery normalizes the pageX and pageY\n",
       "    // pageX,Y are the mouse positions relative to the document\n",
       "    // offset() returns the position of the element relative to the document\n",
       "    var x = e.pageX - $(targ).offset().left;\n",
       "    var y = e.pageY - $(targ).offset().top;\n",
       "\n",
       "    return {\"x\": x, \"y\": y};\n",
       "};\n",
       "\n",
       "/*\n",
       " * return a copy of an object with only non-object keys\n",
       " * we need this to avoid circular references\n",
       " * http://stackoverflow.com/a/24161582/3208463\n",
       " */\n",
       "function simpleKeys (original) {\n",
       "  return Object.keys(original).reduce(function (obj, key) {\n",
       "    if (typeof original[key] !== 'object')\n",
       "        obj[key] = original[key]\n",
       "    return obj;\n",
       "  }, {});\n",
       "}\n",
       "\n",
       "mpl.figure.prototype.mouse_event = function(event, name) {\n",
       "    var canvas_pos = mpl.findpos(event)\n",
       "\n",
       "    if (name === 'button_press')\n",
       "    {\n",
       "        this.canvas.focus();\n",
       "        this.canvas_div.focus();\n",
       "    }\n",
       "\n",
       "    var x = canvas_pos.x * mpl.ratio;\n",
       "    var y = canvas_pos.y * mpl.ratio;\n",
       "\n",
       "    this.send_message(name, {x: x, y: y, button: event.button,\n",
       "                             step: event.step,\n",
       "                             guiEvent: simpleKeys(event)});\n",
       "\n",
       "    /* This prevents the web browser from automatically changing to\n",
       "     * the text insertion cursor when the button is pressed.  We want\n",
       "     * to control all of the cursor setting manually through the\n",
       "     * 'cursor' event from matplotlib */\n",
       "    event.preventDefault();\n",
       "    return false;\n",
       "}\n",
       "\n",
       "mpl.figure.prototype._key_event_extra = function(event, name) {\n",
       "    // Handle any extra behaviour associated with a key event\n",
       "}\n",
       "\n",
       "mpl.figure.prototype.key_event = function(event, name) {\n",
       "\n",
       "    // Prevent repeat events\n",
       "    if (name == 'key_press')\n",
       "    {\n",
       "        if (event.which === this._key)\n",
       "            return;\n",
       "        else\n",
       "            this._key = event.which;\n",
       "    }\n",
       "    if (name == 'key_release')\n",
       "        this._key = null;\n",
       "\n",
       "    var value = '';\n",
       "    if (event.ctrlKey && event.which != 17)\n",
       "        value += \"ctrl+\";\n",
       "    if (event.altKey && event.which != 18)\n",
       "        value += \"alt+\";\n",
       "    if (event.shiftKey && event.which != 16)\n",
       "        value += \"shift+\";\n",
       "\n",
       "    value += 'k';\n",
       "    value += event.which.toString();\n",
       "\n",
       "    this._key_event_extra(event, name);\n",
       "\n",
       "    this.send_message(name, {key: value,\n",
       "                             guiEvent: simpleKeys(event)});\n",
       "    return false;\n",
       "}\n",
       "\n",
       "mpl.figure.prototype.toolbar_button_onclick = function(name) {\n",
       "    if (name == 'download') {\n",
       "        this.handle_save(this, null);\n",
       "    } else {\n",
       "        this.send_message(\"toolbar_button\", {name: name});\n",
       "    }\n",
       "};\n",
       "\n",
       "mpl.figure.prototype.toolbar_button_onmouseover = function(tooltip) {\n",
       "    this.message.textContent = tooltip;\n",
       "};\n",
       "mpl.toolbar_items = [[\"Home\", \"Reset original view\", \"fa fa-home icon-home\", \"home\"], [\"Back\", \"Back to previous view\", \"fa fa-arrow-left icon-arrow-left\", \"back\"], [\"Forward\", \"Forward to next view\", \"fa fa-arrow-right icon-arrow-right\", \"forward\"], [\"\", \"\", \"\", \"\"], [\"Pan\", \"Pan axes with left mouse, zoom with right\", \"fa fa-arrows icon-move\", \"pan\"], [\"Zoom\", \"Zoom to rectangle\", \"fa fa-square-o icon-check-empty\", \"zoom\"], [\"\", \"\", \"\", \"\"], [\"Download\", \"Download plot\", \"fa fa-floppy-o icon-save\", \"download\"]];\n",
       "\n",
       "mpl.extensions = [\"eps\", \"jpeg\", \"pdf\", \"png\", \"ps\", \"raw\", \"svg\", \"tif\"];\n",
       "\n",
       "mpl.default_extension = \"png\";var comm_websocket_adapter = function(comm) {\n",
       "    // Create a \"websocket\"-like object which calls the given IPython comm\n",
       "    // object with the appropriate methods. Currently this is a non binary\n",
       "    // socket, so there is still some room for performance tuning.\n",
       "    var ws = {};\n",
       "\n",
       "    ws.close = function() {\n",
       "        comm.close()\n",
       "    };\n",
       "    ws.send = function(m) {\n",
       "        //console.log('sending', m);\n",
       "        comm.send(m);\n",
       "    };\n",
       "    // Register the callback with on_msg.\n",
       "    comm.on_msg(function(msg) {\n",
       "        //console.log('receiving', msg['content']['data'], msg);\n",
       "        // Pass the mpl event to the overridden (by mpl) onmessage function.\n",
       "        ws.onmessage(msg['content']['data'])\n",
       "    });\n",
       "    return ws;\n",
       "}\n",
       "\n",
       "mpl.mpl_figure_comm = function(comm, msg) {\n",
       "    // This is the function which gets called when the mpl process\n",
       "    // starts-up an IPython Comm through the \"matplotlib\" channel.\n",
       "\n",
       "    var id = msg.content.data.id;\n",
       "    // Get hold of the div created by the display call when the Comm\n",
       "    // socket was opened in Python.\n",
       "    var element = $(\"#\" + id);\n",
       "    var ws_proxy = comm_websocket_adapter(comm)\n",
       "\n",
       "    function ondownload(figure, format) {\n",
       "        window.open(figure.imageObj.src);\n",
       "    }\n",
       "\n",
       "    var fig = new mpl.figure(id, ws_proxy,\n",
       "                           ondownload,\n",
       "                           element.get(0));\n",
       "\n",
       "    // Call onopen now - mpl needs it, as it is assuming we've passed it a real\n",
       "    // web socket which is closed, not our websocket->open comm proxy.\n",
       "    ws_proxy.onopen();\n",
       "\n",
       "    fig.parent_element = element.get(0);\n",
       "    fig.cell_info = mpl.find_output_cell(\"<div id='\" + id + \"'></div>\");\n",
       "    if (!fig.cell_info) {\n",
       "        console.error(\"Failed to find cell for figure\", id, fig);\n",
       "        return;\n",
       "    }\n",
       "\n",
       "    var output_index = fig.cell_info[2]\n",
       "    var cell = fig.cell_info[0];\n",
       "\n",
       "};\n",
       "\n",
       "mpl.figure.prototype.handle_close = function(fig, msg) {\n",
       "    var width = fig.canvas.width/mpl.ratio\n",
       "    fig.root.unbind('remove')\n",
       "\n",
       "    // Update the output cell to use the data from the current canvas.\n",
       "    fig.push_to_output();\n",
       "    var dataURL = fig.canvas.toDataURL();\n",
       "    // Re-enable the keyboard manager in IPython - without this line, in FF,\n",
       "    // the notebook keyboard shortcuts fail.\n",
       "    IPython.keyboard_manager.enable()\n",
       "    $(fig.parent_element).html('<img src=\"' + dataURL + '\" width=\"' + width + '\">');\n",
       "    fig.close_ws(fig, msg);\n",
       "}\n",
       "\n",
       "mpl.figure.prototype.close_ws = function(fig, msg){\n",
       "    fig.send_message('closing', msg);\n",
       "    // fig.ws.close()\n",
       "}\n",
       "\n",
       "mpl.figure.prototype.push_to_output = function(remove_interactive) {\n",
       "    // Turn the data on the canvas into data in the output cell.\n",
       "    var width = this.canvas.width/mpl.ratio\n",
       "    var dataURL = this.canvas.toDataURL();\n",
       "    this.cell_info[1]['text/html'] = '<img src=\"' + dataURL + '\" width=\"' + width + '\">';\n",
       "}\n",
       "\n",
       "mpl.figure.prototype.updated_canvas_event = function() {\n",
       "    // Tell IPython that the notebook contents must change.\n",
       "    IPython.notebook.set_dirty(true);\n",
       "    this.send_message(\"ack\", {});\n",
       "    var fig = this;\n",
       "    // Wait a second, then push the new image to the DOM so\n",
       "    // that it is saved nicely (might be nice to debounce this).\n",
       "    setTimeout(function () { fig.push_to_output() }, 1000);\n",
       "}\n",
       "\n",
       "mpl.figure.prototype._init_toolbar = function() {\n",
       "    var fig = this;\n",
       "\n",
       "    var nav_element = $('<div/>')\n",
       "    nav_element.attr('style', 'width: 100%');\n",
       "    this.root.append(nav_element);\n",
       "\n",
       "    // Define a callback function for later on.\n",
       "    function toolbar_event(event) {\n",
       "        return fig.toolbar_button_onclick(event['data']);\n",
       "    }\n",
       "    function toolbar_mouse_event(event) {\n",
       "        return fig.toolbar_button_onmouseover(event['data']);\n",
       "    }\n",
       "\n",
       "    for(var toolbar_ind in mpl.toolbar_items){\n",
       "        var name = mpl.toolbar_items[toolbar_ind][0];\n",
       "        var tooltip = mpl.toolbar_items[toolbar_ind][1];\n",
       "        var image = mpl.toolbar_items[toolbar_ind][2];\n",
       "        var method_name = mpl.toolbar_items[toolbar_ind][3];\n",
       "\n",
       "        if (!name) { continue; };\n",
       "\n",
       "        var button = $('<button class=\"btn btn-default\" href=\"#\" title=\"' + name + '\"><i class=\"fa ' + image + ' fa-lg\"></i></button>');\n",
       "        button.click(method_name, toolbar_event);\n",
       "        button.mouseover(tooltip, toolbar_mouse_event);\n",
       "        nav_element.append(button);\n",
       "    }\n",
       "\n",
       "    // Add the status bar.\n",
       "    var status_bar = $('<span class=\"mpl-message\" style=\"text-align:right; float: right;\"/>');\n",
       "    nav_element.append(status_bar);\n",
       "    this.message = status_bar[0];\n",
       "\n",
       "    // Add the close button to the window.\n",
       "    var buttongrp = $('<div class=\"btn-group inline pull-right\"></div>');\n",
       "    var button = $('<button class=\"btn btn-mini btn-primary\" href=\"#\" title=\"Stop Interaction\"><i class=\"fa fa-power-off icon-remove icon-large\"></i></button>');\n",
       "    button.click(function (evt) { fig.handle_close(fig, {}); } );\n",
       "    button.mouseover('Stop Interaction', toolbar_mouse_event);\n",
       "    buttongrp.append(button);\n",
       "    var titlebar = this.root.find($('.ui-dialog-titlebar'));\n",
       "    titlebar.prepend(buttongrp);\n",
       "}\n",
       "\n",
       "mpl.figure.prototype._root_extra_style = function(el){\n",
       "    var fig = this\n",
       "    el.on(\"remove\", function(){\n",
       "\tfig.close_ws(fig, {});\n",
       "    });\n",
       "}\n",
       "\n",
       "mpl.figure.prototype._canvas_extra_style = function(el){\n",
       "    // this is important to make the div 'focusable\n",
       "    el.attr('tabindex', 0)\n",
       "    // reach out to IPython and tell the keyboard manager to turn it's self\n",
       "    // off when our div gets focus\n",
       "\n",
       "    // location in version 3\n",
       "    if (IPython.notebook.keyboard_manager) {\n",
       "        IPython.notebook.keyboard_manager.register_events(el);\n",
       "    }\n",
       "    else {\n",
       "        // location in version 2\n",
       "        IPython.keyboard_manager.register_events(el);\n",
       "    }\n",
       "\n",
       "}\n",
       "\n",
       "mpl.figure.prototype._key_event_extra = function(event, name) {\n",
       "    var manager = IPython.notebook.keyboard_manager;\n",
       "    if (!manager)\n",
       "        manager = IPython.keyboard_manager;\n",
       "\n",
       "    // Check for shift+enter\n",
       "    if (event.shiftKey && event.which == 13) {\n",
       "        this.canvas_div.blur();\n",
       "        event.shiftKey = false;\n",
       "        // Send a \"J\" for go to next cell\n",
       "        event.which = 74;\n",
       "        event.keyCode = 74;\n",
       "        manager.command_mode();\n",
       "        manager.handle_keydown(event);\n",
       "    }\n",
       "}\n",
       "\n",
       "mpl.figure.prototype.handle_save = function(fig, msg) {\n",
       "    fig.ondownload(fig, null);\n",
       "}\n",
       "\n",
       "\n",
       "mpl.find_output_cell = function(html_output) {\n",
       "    // Return the cell and output element which can be found *uniquely* in the notebook.\n",
       "    // Note - this is a bit hacky, but it is done because the \"notebook_saving.Notebook\"\n",
       "    // IPython event is triggered only after the cells have been serialised, which for\n",
       "    // our purposes (turning an active figure into a static one), is too late.\n",
       "    var cells = IPython.notebook.get_cells();\n",
       "    var ncells = cells.length;\n",
       "    for (var i=0; i<ncells; i++) {\n",
       "        var cell = cells[i];\n",
       "        if (cell.cell_type === 'code'){\n",
       "            for (var j=0; j<cell.output_area.outputs.length; j++) {\n",
       "                var data = cell.output_area.outputs[j];\n",
       "                if (data.data) {\n",
       "                    // IPython >= 3 moved mimebundle to data attribute of output\n",
       "                    data = data.data;\n",
       "                }\n",
       "                if (data['text/html'] == html_output) {\n",
       "                    return [cell, data, j];\n",
       "                }\n",
       "            }\n",
       "        }\n",
       "    }\n",
       "}\n",
       "\n",
       "// Register the function which deals with the matplotlib target/channel.\n",
       "// The kernel may be null if the page has been refreshed.\n",
       "if (IPython.notebook.kernel != null) {\n",
       "    IPython.notebook.kernel.comm_manager.register_target('matplotlib', mpl.mpl_figure_comm);\n",
       "}\n"
      ],
      "text/plain": [
       "<IPython.core.display.Javascript object>"
      ]
     },
     "metadata": {},
     "output_type": "display_data"
    },
    {
     "data": {
      "text/html": [
       "<img src=\"data:image/png;base64,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\" width=\"432\">"
      ],
      "text/plain": [
       "<IPython.core.display.HTML object>"
      ]
     },
     "metadata": {},
     "output_type": "display_data"
    }
   ],
   "source": [
    "%matplotlib notebook\n",
    "fig = plt.figure()\n",
    "ax = fig.add_subplot(111, projection='3d')\n",
    "ax.scatter(df_m['created'], df_m['karma'], df_m['submitted'], c='blue', marker='o', alpha=0.5)\n",
    "ax.plot_surface(x_surf, y_surf, fittedY.values.reshape(x_surf.shape), color='green', alpha=0.2)\n",
    "ax.set_xlabel('created')\n",
    "ax.set_ylabel('karma')\n",
    "ax.set_zlabel('submitted')\n",
    "plt.show()"
   ]
  },
  {
   "cell_type": "markdown",
   "metadata": {},
   "source": [
    "Part 3"
   ]
  },
  {
   "cell_type": "code",
   "execution_count": null,
   "metadata": {},
   "outputs": [],
   "source": [
    "import os\n",
    "import requests\n",
    "\n",
    "url = 'http://archive.ics.uci.edu/ml/machine-learning-databases/breast-cancer-wisconsin/wdbc.data'\n",
    "filename = os.path.join('/tmp', os.path.basename(url))\n",
    "r = requests.get(url)\n",
    "\n",
    "with open(filename, 'wb') as f:\n",
    "    f.write(r.content)"
   ]
  },
  {
   "cell_type": "markdown",
   "metadata": {},
   "source": [
    "For MacOs"
   ]
  },
  {
   "cell_type": "code",
   "execution_count": null,
   "metadata": {},
   "outputs": [],
   "source": [
    "%%bash\n",
    "sed -i '.original' -e '1s;^;ID,Diagnosis,Mean Radius,Mean Texture,Mean Perimeter,Mean Area,Mean Smoothness,Mean Compactness,Mean Concavity,Mean Concave Points,Mean Symmetry,Mean Fractal Dimension,Radius SE,Texture SE,Perimeter SE,Area SE,Smoothness SE,Compactness SE,Concavity SE,Concave Points SE,Symmetry SE,Fractal Dimension SE,Worst Radius,Worst Texture,Worst Perimeter,Worst Area,Worst Smoothness,Worst Compactness,Worst Concavity,Worst Concave Points,Worst Symmetry,Worst Fractal Dimension\\'$'\\n;' /tmp/wdbc.data"
   ]
  },
  {
   "cell_type": "markdown",
   "metadata": {},
   "source": [
    "For Linux"
   ]
  },
  {
   "cell_type": "code",
   "execution_count": null,
   "metadata": {},
   "outputs": [],
   "source": [
    "%%bash\n",
    "sed -i '1s;^;ID,Diagnosis,Mean Radius,Mean Texture,Mean Perimeter,Mean Area,Mean Smoothness,Mean Compactness,Mean Concavity,Mean Concave Points,Mean Symmetry,Mean Fractal Dimension,Radius SE,Texture SE,Perimeter SE,Area SE,Smoothness SE,Compactness SE,Concavity SE,Concave Points SE,Symmetry SE,Fractal Dimension SE,Worst Radius,Worst Texture,Worst Perimeter,Worst Area,Worst Smoothness,Worst Compactness,Worst Concavity,Worst Concave Points,Worst Symmetry,Worst Fractal Dimension\\n;' /tmp/wdbc.data"
   ]
  },
  {
   "cell_type": "code",
   "execution_count": null,
   "metadata": {},
   "outputs": [],
   "source": [
    "%%bash\n",
    "head /tmp/wdbc.data"
   ]
  },
  {
   "cell_type": "code",
   "execution_count": null,
   "metadata": {},
   "outputs": [],
   "source": [
    "data = pd.read_csv('/tmp/wdbc.data')\n",
    "data.head()"
   ]
  },
  {
   "cell_type": "markdown",
   "metadata": {},
   "source": [
    "Page is down, we are now using a backup dataset."
   ]
  },
  {
   "cell_type": "code",
   "execution_count": 50,
   "metadata": {},
   "outputs": [
    {
     "data": {
      "text/html": [
       "<div>\n",
       "<style scoped>\n",
       "    .dataframe tbody tr th:only-of-type {\n",
       "        vertical-align: middle;\n",
       "    }\n",
       "\n",
       "    .dataframe tbody tr th {\n",
       "        vertical-align: top;\n",
       "    }\n",
       "\n",
       "    .dataframe thead th {\n",
       "        text-align: right;\n",
       "    }\n",
       "</style>\n",
       "<table border=\"1\" class=\"dataframe\">\n",
       "  <thead>\n",
       "    <tr style=\"text-align: right;\">\n",
       "      <th></th>\n",
       "      <th>id</th>\n",
       "      <th>diagnosis</th>\n",
       "      <th>radius_mean</th>\n",
       "      <th>texture_mean</th>\n",
       "      <th>perimeter_mean</th>\n",
       "      <th>area_mean</th>\n",
       "      <th>smoothness_mean</th>\n",
       "      <th>compactness_mean</th>\n",
       "      <th>concavity_mean</th>\n",
       "      <th>concave points_mean</th>\n",
       "      <th>...</th>\n",
       "      <th>texture_worst</th>\n",
       "      <th>perimeter_worst</th>\n",
       "      <th>area_worst</th>\n",
       "      <th>smoothness_worst</th>\n",
       "      <th>compactness_worst</th>\n",
       "      <th>concavity_worst</th>\n",
       "      <th>concave points_worst</th>\n",
       "      <th>symmetry_worst</th>\n",
       "      <th>fractal_dimension_worst</th>\n",
       "      <th>Unnamed: 32</th>\n",
       "    </tr>\n",
       "  </thead>\n",
       "  <tbody>\n",
       "    <tr>\n",
       "      <th>0</th>\n",
       "      <td>842302</td>\n",
       "      <td>M</td>\n",
       "      <td>17.99</td>\n",
       "      <td>10.38</td>\n",
       "      <td>122.80</td>\n",
       "      <td>1001.0</td>\n",
       "      <td>0.11840</td>\n",
       "      <td>0.27760</td>\n",
       "      <td>0.3001</td>\n",
       "      <td>0.14710</td>\n",
       "      <td>...</td>\n",
       "      <td>17.33</td>\n",
       "      <td>184.60</td>\n",
       "      <td>2019.0</td>\n",
       "      <td>0.1622</td>\n",
       "      <td>0.6656</td>\n",
       "      <td>0.7119</td>\n",
       "      <td>0.2654</td>\n",
       "      <td>0.4601</td>\n",
       "      <td>0.11890</td>\n",
       "      <td>NaN</td>\n",
       "    </tr>\n",
       "    <tr>\n",
       "      <th>1</th>\n",
       "      <td>842517</td>\n",
       "      <td>M</td>\n",
       "      <td>20.57</td>\n",
       "      <td>17.77</td>\n",
       "      <td>132.90</td>\n",
       "      <td>1326.0</td>\n",
       "      <td>0.08474</td>\n",
       "      <td>0.07864</td>\n",
       "      <td>0.0869</td>\n",
       "      <td>0.07017</td>\n",
       "      <td>...</td>\n",
       "      <td>23.41</td>\n",
       "      <td>158.80</td>\n",
       "      <td>1956.0</td>\n",
       "      <td>0.1238</td>\n",
       "      <td>0.1866</td>\n",
       "      <td>0.2416</td>\n",
       "      <td>0.1860</td>\n",
       "      <td>0.2750</td>\n",
       "      <td>0.08902</td>\n",
       "      <td>NaN</td>\n",
       "    </tr>\n",
       "    <tr>\n",
       "      <th>2</th>\n",
       "      <td>84300903</td>\n",
       "      <td>M</td>\n",
       "      <td>19.69</td>\n",
       "      <td>21.25</td>\n",
       "      <td>130.00</td>\n",
       "      <td>1203.0</td>\n",
       "      <td>0.10960</td>\n",
       "      <td>0.15990</td>\n",
       "      <td>0.1974</td>\n",
       "      <td>0.12790</td>\n",
       "      <td>...</td>\n",
       "      <td>25.53</td>\n",
       "      <td>152.50</td>\n",
       "      <td>1709.0</td>\n",
       "      <td>0.1444</td>\n",
       "      <td>0.4245</td>\n",
       "      <td>0.4504</td>\n",
       "      <td>0.2430</td>\n",
       "      <td>0.3613</td>\n",
       "      <td>0.08758</td>\n",
       "      <td>NaN</td>\n",
       "    </tr>\n",
       "    <tr>\n",
       "      <th>3</th>\n",
       "      <td>84348301</td>\n",
       "      <td>M</td>\n",
       "      <td>11.42</td>\n",
       "      <td>20.38</td>\n",
       "      <td>77.58</td>\n",
       "      <td>386.1</td>\n",
       "      <td>0.14250</td>\n",
       "      <td>0.28390</td>\n",
       "      <td>0.2414</td>\n",
       "      <td>0.10520</td>\n",
       "      <td>...</td>\n",
       "      <td>26.50</td>\n",
       "      <td>98.87</td>\n",
       "      <td>567.7</td>\n",
       "      <td>0.2098</td>\n",
       "      <td>0.8663</td>\n",
       "      <td>0.6869</td>\n",
       "      <td>0.2575</td>\n",
       "      <td>0.6638</td>\n",
       "      <td>0.17300</td>\n",
       "      <td>NaN</td>\n",
       "    </tr>\n",
       "    <tr>\n",
       "      <th>4</th>\n",
       "      <td>84358402</td>\n",
       "      <td>M</td>\n",
       "      <td>20.29</td>\n",
       "      <td>14.34</td>\n",
       "      <td>135.10</td>\n",
       "      <td>1297.0</td>\n",
       "      <td>0.10030</td>\n",
       "      <td>0.13280</td>\n",
       "      <td>0.1980</td>\n",
       "      <td>0.10430</td>\n",
       "      <td>...</td>\n",
       "      <td>16.67</td>\n",
       "      <td>152.20</td>\n",
       "      <td>1575.0</td>\n",
       "      <td>0.1374</td>\n",
       "      <td>0.2050</td>\n",
       "      <td>0.4000</td>\n",
       "      <td>0.1625</td>\n",
       "      <td>0.2364</td>\n",
       "      <td>0.07678</td>\n",
       "      <td>NaN</td>\n",
       "    </tr>\n",
       "  </tbody>\n",
       "</table>\n",
       "<p>5 rows × 33 columns</p>\n",
       "</div>"
      ],
      "text/plain": [
       "         id diagnosis  radius_mean  texture_mean  perimeter_mean  area_mean  \\\n",
       "0    842302         M        17.99         10.38          122.80     1001.0   \n",
       "1    842517         M        20.57         17.77          132.90     1326.0   \n",
       "2  84300903         M        19.69         21.25          130.00     1203.0   \n",
       "3  84348301         M        11.42         20.38           77.58      386.1   \n",
       "4  84358402         M        20.29         14.34          135.10     1297.0   \n",
       "\n",
       "   smoothness_mean  compactness_mean  concavity_mean  concave points_mean  \\\n",
       "0          0.11840           0.27760          0.3001              0.14710   \n",
       "1          0.08474           0.07864          0.0869              0.07017   \n",
       "2          0.10960           0.15990          0.1974              0.12790   \n",
       "3          0.14250           0.28390          0.2414              0.10520   \n",
       "4          0.10030           0.13280          0.1980              0.10430   \n",
       "\n",
       "      ...       texture_worst  perimeter_worst  area_worst  smoothness_worst  \\\n",
       "0     ...               17.33           184.60      2019.0            0.1622   \n",
       "1     ...               23.41           158.80      1956.0            0.1238   \n",
       "2     ...               25.53           152.50      1709.0            0.1444   \n",
       "3     ...               26.50            98.87       567.7            0.2098   \n",
       "4     ...               16.67           152.20      1575.0            0.1374   \n",
       "\n",
       "   compactness_worst  concavity_worst  concave points_worst  symmetry_worst  \\\n",
       "0             0.6656           0.7119                0.2654          0.4601   \n",
       "1             0.1866           0.2416                0.1860          0.2750   \n",
       "2             0.4245           0.4504                0.2430          0.3613   \n",
       "3             0.8663           0.6869                0.2575          0.6638   \n",
       "4             0.2050           0.4000                0.1625          0.2364   \n",
       "\n",
       "   fractal_dimension_worst  Unnamed: 32  \n",
       "0                  0.11890          NaN  \n",
       "1                  0.08902          NaN  \n",
       "2                  0.08758          NaN  \n",
       "3                  0.17300          NaN  \n",
       "4                  0.07678          NaN  \n",
       "\n",
       "[5 rows x 33 columns]"
      ]
     },
     "execution_count": 50,
     "metadata": {},
     "output_type": "execute_result"
    }
   ],
   "source": [
    "data = pd.read_csv('data.csv')\n",
    "data.head()"
   ]
  },
  {
   "cell_type": "markdown",
   "metadata": {},
   "source": [
    "Notice when you use the origngal dataset, remember to change the column name, because they are different."
   ]
  },
  {
   "cell_type": "code",
   "execution_count": 51,
   "metadata": {},
   "outputs": [
    {
     "data": {
      "text/plain": [
       "569"
      ]
     },
     "execution_count": 51,
     "metadata": {},
     "output_type": "execute_result"
    }
   ],
   "source": [
    "len(data)"
   ]
  },
  {
   "cell_type": "markdown",
   "metadata": {},
   "source": [
    "Area and Concavity reason:"
   ]
  },
  {
   "cell_type": "code",
   "execution_count": 52,
   "metadata": {},
   "outputs": [],
   "source": [
    "import seaborn as sns\n",
    "%matplotlib inline"
   ]
  },
  {
   "cell_type": "code",
   "execution_count": 53,
   "metadata": {},
   "outputs": [
    {
     "data": {
      "text/plain": [
       "<matplotlib.axes._subplots.AxesSubplot at 0x1a247225c0>"
      ]
     },
     "execution_count": 53,
     "metadata": {},
     "output_type": "execute_result"
    },
    {
     "data": {
      "image/png": "[encoded data removed]",
      "text/plain": [
       "<Figure size 432x288 with 1 Axes>"
      ]
     },
     "metadata": {
      "needs_background": "light"
     },
     "output_type": "display_data"
    }
   ],
   "source": [
    "sns.countplot(x='diagnosis', data=data)"
   ]
  },
  {
   "cell_type": "code",
   "execution_count": 54,
   "metadata": {},
   "outputs": [
    {
     "data": {
      "text/plain": [
       "<matplotlib.axes._subplots.AxesSubplot at 0x1a2488e4e0>"
      ]
     },
     "execution_count": 54,
     "metadata": {},
     "output_type": "execute_result"
    },
    {
     "data": {
      "image/png": "[encoded data removed]",
      "text/plain": [
       "<Figure size 432x288 with 1 Axes>"
      ]
     },
     "metadata": {
      "needs_background": "light"
     },
     "output_type": "display_data"
    }
   ],
   "source": [
    "sns.countplot(x='area_mean',hue='diagnosis',data=data)"
   ]
  },
  {
   "cell_type": "code",
   "execution_count": 55,
   "metadata": {},
   "outputs": [
    {
     "data": {
      "text/plain": [
       "<matplotlib.axes._subplots.AxesSubplot at 0x1a25b74550>"
      ]
     },
     "execution_count": 55,
     "metadata": {},
     "output_type": "execute_result"
    },
    {
     "data": {
      "image/png": "[encoded data removed]",
      "text/plain": [
       "<Figure size 432x288 with 1 Axes>"
      ]
     },
     "metadata": {
      "needs_background": "light"
     },
     "output_type": "display_data"
    }
   ],
   "source": [
    "sns.countplot(x='concavity_mean',hue='diagnosis',data=data)"
   ]
  },
  {
   "cell_type": "markdown",
   "metadata": {},
   "source": [
    "Next step is not necessary for origngal dataset"
   ]
  },
  {
   "cell_type": "code",
   "execution_count": 63,
   "metadata": {
    "scrolled": true
   },
   "outputs": [],
   "source": [
    "data.drop('Unnamed: 32',axis=1,inplace=True)"
   ]
  },
  {
   "cell_type": "markdown",
   "metadata": {},
   "source": [
    "Origngal dataset starts again from here (using all parameters from dataset to train the model)"
   ]
  },
  {
   "cell_type": "code",
   "execution_count": 66,
   "metadata": {},
   "outputs": [],
   "source": [
    "X_trainlogi, X_testlogi, y_trainlogi, y_testlogi = train_test_split(data.drop('diagnosis',axis=1),data['diagnosis'],test_size=0.33,random_state=42)"
   ]
  },
  {
   "cell_type": "code",
   "execution_count": 67,
   "metadata": {},
   "outputs": [
    {
     "name": "stderr",
     "output_type": "stream",
     "text": [
      "/anaconda3/lib/python3.7/site-packages/sklearn/linear_model/logistic.py:433: FutureWarning: Default solver will be changed to 'lbfgs' in 0.22. Specify a solver to silence this warning.\n",
      "  FutureWarning)\n"
     ]
    },
    {
     "data": {
      "text/plain": [
       "LogisticRegression(C=1.0, class_weight=None, dual=False, fit_intercept=True,\n",
       "          intercept_scaling=1, max_iter=100, multi_class='warn',\n",
       "          n_jobs=None, penalty='l2', random_state=None, solver='warn',\n",
       "          tol=0.0001, verbose=0, warm_start=False)"
      ]
     },
     "execution_count": 67,
     "metadata": {},
     "output_type": "execute_result"
    }
   ],
   "source": [
    "from sklearn.linear_model import LogisticRegression\n",
    "logimodel = LogisticRegression()\n",
    "logimodel.fit(X_trainlogi, y_trainlogi)"
   ]
  },
  {
   "cell_type": "code",
   "execution_count": 69,
   "metadata": {},
   "outputs": [
    {
     "data": {
      "text/plain": [
       "array(['M', 'M', 'M', 'M', 'M', 'M', 'M', 'M', 'M', 'M', 'M', 'M', 'M',\n",
       "       'M', 'M', 'M', 'M', 'M', 'M', 'M', 'M', 'M', 'M', 'M', 'M', 'M',\n",
       "       'M', 'M', 'M', 'M', 'M', 'M', 'M', 'M', 'M', 'M', 'M', 'M', 'M',\n",
       "       'M', 'M', 'M', 'M', 'M', 'M', 'M', 'M', 'M', 'M', 'M', 'M', 'M',\n",
       "       'M', 'M', 'M', 'B', 'M', 'M', 'M', 'M', 'M', 'M', 'M', 'M', 'M',\n",
       "       'M', 'M', 'M', 'M', 'M', 'M', 'M', 'M', 'M', 'M', 'M', 'M', 'M',\n",
       "       'M', 'M', 'M', 'M', 'M', 'M', 'M', 'M', 'M', 'M', 'M', 'M', 'M',\n",
       "       'M', 'M', 'M', 'M', 'M', 'M', 'M', 'M', 'M', 'M', 'M', 'M', 'M',\n",
       "       'M', 'M', 'M', 'M', 'M', 'M', 'M', 'M', 'M', 'M', 'M', 'M', 'M',\n",
       "       'M', 'M', 'M', 'M', 'M', 'M', 'M', 'M', 'B', 'M', 'M', 'M', 'M',\n",
       "       'M', 'M', 'M', 'M', 'M', 'M', 'M', 'M', 'M', 'M', 'M', 'M', 'M',\n",
       "       'M', 'M', 'M', 'M', 'B', 'M', 'M', 'M', 'M', 'B', 'M', 'M', 'M',\n",
       "       'M', 'M', 'M', 'M', 'M', 'M', 'M', 'M', 'M', 'M', 'M', 'M', 'M',\n",
       "       'M', 'M', 'M', 'M', 'M', 'M', 'M', 'M', 'M', 'M', 'M', 'M', 'M',\n",
       "       'M', 'M', 'M', 'M', 'M', 'M'], dtype=object)"
      ]
     },
     "execution_count": 69,
     "metadata": {},
     "output_type": "execute_result"
    }
   ],
   "source": [
    "prediction_logi = logimodel.predict(X_testlogi)\n",
    "prediction_logi"
   ]
  },
  {
   "cell_type": "code",
   "execution_count": 71,
   "metadata": {},
   "outputs": [
    {
     "name": "stdout",
     "output_type": "stream",
     "text": [
      "              precision    recall  f1-score   support\n",
      "\n",
      "           B       0.50      0.02      0.03       121\n",
      "           M       0.35      0.97      0.52        67\n",
      "\n",
      "   micro avg       0.36      0.36      0.36       188\n",
      "   macro avg       0.43      0.49      0.27       188\n",
      "weighted avg       0.45      0.36      0.21       188\n",
      "\n"
     ]
    }
   ],
   "source": [
    "from sklearn.metrics import classification_report\n",
    "print(classification_report(y_testlogi,prediction_logi))"
   ]
  },
  {
   "cell_type": "code",
   "execution_count": 87,
   "metadata": {},
   "outputs": [],
   "source": [
    "from sklearn.metrics import accuracy_score\n",
    "accuracy = accuracy_score(y_testlogi,prediction_logi)"
   ]
  },
  {
   "cell_type": "code",
   "execution_count": 86,
   "metadata": {},
   "outputs": [
    {
     "name": "stdout",
     "output_type": "stream",
     "text": [
      "Accuracy for this model: 35.638297872340424%\n"
     ]
    }
   ],
   "source": [
    "print(\"Accuracy for this model: \" + str(accuracy*100)+\"%\")"
   ]
  },
  {
   "cell_type": "markdown",
   "metadata": {},
   "source": [
    "using two parameters which we picked from dataset to train the model"
   ]
  },
  {
   "cell_type": "code",
   "execution_count": 97,
   "metadata": {},
   "outputs": [
    {
     "data": {
      "text/html": [
       "<div>\n",
       "<style scoped>\n",
       "    .dataframe tbody tr th:only-of-type {\n",
       "        vertical-align: middle;\n",
       "    }\n",
       "\n",
       "    .dataframe tbody tr th {\n",
       "        vertical-align: top;\n",
       "    }\n",
       "\n",
       "    .dataframe thead th {\n",
       "        text-align: right;\n",
       "    }\n",
       "</style>\n",
       "<table border=\"1\" class=\"dataframe\">\n",
       "  <thead>\n",
       "    <tr style=\"text-align: right;\">\n",
       "      <th></th>\n",
       "      <th>diagnosis</th>\n",
       "      <th>area_mean</th>\n",
       "      <th>concavity_mean</th>\n",
       "    </tr>\n",
       "  </thead>\n",
       "  <tbody>\n",
       "    <tr>\n",
       "      <th>0</th>\n",
       "      <td>M</td>\n",
       "      <td>1001.0</td>\n",
       "      <td>0.3001</td>\n",
       "    </tr>\n",
       "    <tr>\n",
       "      <th>1</th>\n",
       "      <td>M</td>\n",
       "      <td>1326.0</td>\n",
       "      <td>0.0869</td>\n",
       "    </tr>\n",
       "    <tr>\n",
       "      <th>2</th>\n",
       "      <td>M</td>\n",
       "      <td>1203.0</td>\n",
       "      <td>0.1974</td>\n",
       "    </tr>\n",
       "    <tr>\n",
       "      <th>3</th>\n",
       "      <td>M</td>\n",
       "      <td>386.1</td>\n",
       "      <td>0.2414</td>\n",
       "    </tr>\n",
       "    <tr>\n",
       "      <th>4</th>\n",
       "      <td>M</td>\n",
       "      <td>1297.0</td>\n",
       "      <td>0.1980</td>\n",
       "    </tr>\n",
       "  </tbody>\n",
       "</table>\n",
       "</div>"
      ],
      "text/plain": [
       "  diagnosis  area_mean  concavity_mean\n",
       "0         M     1001.0          0.3001\n",
       "1         M     1326.0          0.0869\n",
       "2         M     1203.0          0.1974\n",
       "3         M      386.1          0.2414\n",
       "4         M     1297.0          0.1980"
      ]
     },
     "execution_count": 97,
     "metadata": {},
     "output_type": "execute_result"
    }
   ],
   "source": [
    "selectData = data[['diagnosis','area_mean','concavity_mean']].copy()\n",
    "selectData.head()"
   ]
  },
  {
   "cell_type": "code",
   "execution_count": 99,
   "metadata": {},
   "outputs": [],
   "source": [
    "Xsel_trainlogi, Xsel_testlogi, ysel_trainlogi, ysel_testlogi = train_test_split(selectData.drop('diagnosis',axis=1),selectData['diagnosis'],test_size=0.33,random_state=42)"
   ]
  },
  {
   "cell_type": "code",
   "execution_count": 100,
   "metadata": {},
   "outputs": [
    {
     "name": "stderr",
     "output_type": "stream",
     "text": [
      "/anaconda3/lib/python3.7/site-packages/sklearn/linear_model/logistic.py:433: FutureWarning: Default solver will be changed to 'lbfgs' in 0.22. Specify a solver to silence this warning.\n",
      "  FutureWarning)\n"
     ]
    },
    {
     "data": {
      "text/plain": [
       "LogisticRegression(C=1.0, class_weight=None, dual=False, fit_intercept=True,\n",
       "          intercept_scaling=1, max_iter=100, multi_class='warn',\n",
       "          n_jobs=None, penalty='l2', random_state=None, solver='warn',\n",
       "          tol=0.0001, verbose=0, warm_start=False)"
      ]
     },
     "execution_count": 100,
     "metadata": {},
     "output_type": "execute_result"
    }
   ],
   "source": [
    "sel_logimodel = LogisticRegression()\n",
    "sel_logimodel.fit(Xsel_trainlogi, ysel_trainlogi)"
   ]
  },
  {
   "cell_type": "code",
   "execution_count": 101,
   "metadata": {},
   "outputs": [
    {
     "data": {
      "text/plain": [
       "array(['B', 'M', 'M', 'B', 'B', 'M', 'M', 'M', 'B', 'B', 'B', 'M', 'B',\n",
       "       'M', 'B', 'M', 'B', 'B', 'B', 'M', 'B', 'B', 'M', 'B', 'B', 'B',\n",
       "       'B', 'B', 'B', 'M', 'B', 'B', 'B', 'B', 'B', 'B', 'M', 'B', 'M',\n",
       "       'B', 'B', 'M', 'B', 'B', 'B', 'B', 'B', 'B', 'B', 'B', 'M', 'M',\n",
       "       'B', 'B', 'B', 'B', 'B', 'M', 'B', 'B', 'B', 'M', 'M', 'B', 'B',\n",
       "       'B', 'M', 'M', 'B', 'B', 'B', 'M', 'B', 'M', 'B', 'B', 'B', 'B',\n",
       "       'B', 'B', 'M', 'B', 'B', 'M', 'M', 'M', 'B', 'M', 'B', 'B', 'B',\n",
       "       'B', 'B', 'B', 'B', 'B', 'M', 'B', 'B', 'M', 'M', 'B', 'M', 'M',\n",
       "       'B', 'B', 'B', 'M', 'B', 'B', 'M', 'B', 'B', 'M', 'B', 'M', 'B',\n",
       "       'B', 'B', 'B', 'B', 'B', 'B', 'M', 'B', 'M', 'M', 'B', 'B', 'M',\n",
       "       'M', 'M', 'B', 'B', 'M', 'M', 'B', 'B', 'B', 'B', 'B', 'M', 'B',\n",
       "       'B', 'B', 'B', 'M', 'M', 'B', 'B', 'M', 'B', 'B', 'B', 'B', 'M',\n",
       "       'M', 'B', 'B', 'B', 'B', 'B', 'B', 'B', 'M', 'B', 'B', 'B', 'B',\n",
       "       'B', 'B', 'B', 'B', 'B', 'B', 'B', 'M', 'B', 'B', 'B', 'B', 'B',\n",
       "       'B', 'M', 'M', 'B', 'B', 'B'], dtype=object)"
      ]
     },
     "execution_count": 101,
     "metadata": {},
     "output_type": "execute_result"
    }
   ],
   "source": [
    "predictionSel_logi = sel_logimodel.predict(Xsel_testlogi)\n",
    "predictionSel_logi"
   ]
  },
  {
   "cell_type": "code",
   "execution_count": 102,
   "metadata": {},
   "outputs": [
    {
     "name": "stdout",
     "output_type": "stream",
     "text": [
      "              precision    recall  f1-score   support\n",
      "\n",
      "           B       0.90      0.99      0.94       121\n",
      "           M       0.98      0.81      0.89        67\n",
      "\n",
      "   micro avg       0.93      0.93      0.93       188\n",
      "   macro avg       0.94      0.90      0.92       188\n",
      "weighted avg       0.93      0.93      0.92       188\n",
      "\n"
     ]
    }
   ],
   "source": [
    "from sklearn.metrics import classification_report\n",
    "print(classification_report(ysel_testlogi,predictionSel_logi))"
   ]
  },
  {
   "cell_type": "code",
   "execution_count": 104,
   "metadata": {},
   "outputs": [],
   "source": [
    "from sklearn.metrics import accuracy_score\n",
    "accuracy_sel = accuracy_score(ysel_testlogi,predictionSel_logi)"
   ]
  },
  {
   "cell_type": "code",
   "execution_count": 105,
   "metadata": {},
   "outputs": [
    {
     "name": "stdout",
     "output_type": "stream",
     "text": [
      "Accuracy for this model: 92.5531914893617%\n"
     ]
    }
   ],
   "source": [
    "print(\"Accuracy for this model: \" + str(accuracy_sel*100)+\"%\")"
   ]
  },
  {
   "cell_type": "code",
   "execution_count": null,
   "metadata": {},
   "outputs": [],
   "source": []
  }
 ],
 "metadata": {
  "kernelspec": {
   "display_name": "Python 3",
   "language": "python",
   "name": "python3"
  },
  "language_info": {
   "codemirror_mode": {
    "name": "ipython",
    "version": 3
   },
   "file_extension": ".py",
   "mimetype": "text/x-python",
   "name": "python",
   "nbconvert_exporter": "python",
   "pygments_lexer": "ipython3",
   "version": "3.7.1"
  }
 },
 "nbformat": 4,
 "nbformat_minor": 2
}
