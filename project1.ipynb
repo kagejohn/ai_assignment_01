{
 "cells": [
  {
   "cell_type": "code",
   "execution_count": 1,
   "metadata": {},
   "outputs": [],
   "source": [
    "import pandas as pd\n",
    "import matplotlib.pyplot as plt\n",
    "import numpy as np"
   ]
  },
  {
   "cell_type": "code",
   "execution_count": 2,
   "metadata": {},
   "outputs": [
    {
     "data": {
      "text/html": [
       "<div>\n",
       "<style scoped>\n",
       "    .dataframe tbody tr th:only-of-type {\n",
       "        vertical-align: middle;\n",
       "    }\n",
       "\n",
       "    .dataframe tbody tr th {\n",
       "        vertical-align: top;\n",
       "    }\n",
       "\n",
       "    .dataframe thead th {\n",
       "        text-align: right;\n",
       "    }\n",
       "</style>\n",
       "<table border=\"1\" class=\"dataframe\">\n",
       "  <thead>\n",
       "    <tr style=\"text-align: right;\">\n",
       "      <th></th>\n",
       "      <th>about</th>\n",
       "      <th>created</th>\n",
       "      <th>error</th>\n",
       "      <th>id</th>\n",
       "      <th>karma</th>\n",
       "      <th>submitted</th>\n",
       "    </tr>\n",
       "  </thead>\n",
       "  <tbody>\n",
       "    <tr>\n",
       "      <th>0</th>\n",
       "      <td>NaN</td>\n",
       "      <td>1.510266e+09</td>\n",
       "      <td>NaN</td>\n",
       "      <td>gcgggfxsdg</td>\n",
       "      <td>-1.0</td>\n",
       "      <td>5</td>\n",
       "    </tr>\n",
       "    <tr>\n",
       "      <th>1</th>\n",
       "      <td>Ruby, Open Source, Devops</td>\n",
       "      <td>1.325548e+09</td>\n",
       "      <td>NaN</td>\n",
       "      <td>sheerun</td>\n",
       "      <td>102.0</td>\n",
       "      <td>51</td>\n",
       "    </tr>\n",
       "    <tr>\n",
       "      <th>2</th>\n",
       "      <td>NaN</td>\n",
       "      <td>1.459331e+09</td>\n",
       "      <td>NaN</td>\n",
       "      <td>keypress</td>\n",
       "      <td>79.0</td>\n",
       "      <td>70</td>\n",
       "    </tr>\n",
       "    <tr>\n",
       "      <th>3</th>\n",
       "      <td>[ my public key: https:&amp;#x2F;&amp;#x2F;keybase.io&amp;...</td>\n",
       "      <td>1.379698e+09</td>\n",
       "      <td>NaN</td>\n",
       "      <td>pyprism</td>\n",
       "      <td>1356.0</td>\n",
       "      <td>114</td>\n",
       "    </tr>\n",
       "    <tr>\n",
       "      <th>4</th>\n",
       "      <td>Email: ejstronge@gmail.com\\nGithub: https:&amp;#x2...</td>\n",
       "      <td>1.355740e+09</td>\n",
       "      <td>NaN</td>\n",
       "      <td>ejstronge</td>\n",
       "      <td>460.0</td>\n",
       "      <td>144</td>\n",
       "    </tr>\n",
       "    <tr>\n",
       "      <th>5</th>\n",
       "      <td>NaN</td>\n",
       "      <td>1.276201e+09</td>\n",
       "      <td>NaN</td>\n",
       "      <td>akira2501</td>\n",
       "      <td>880.0</td>\n",
       "      <td>304</td>\n",
       "    </tr>\n",
       "    <tr>\n",
       "      <th>6</th>\n",
       "      <td>NaN</td>\n",
       "      <td>1.382222e+09</td>\n",
       "      <td>NaN</td>\n",
       "      <td>matchagaucho</td>\n",
       "      <td>412.0</td>\n",
       "      <td>228</td>\n",
       "    </tr>\n",
       "    <tr>\n",
       "      <th>7</th>\n",
       "      <td>NaN</td>\n",
       "      <td>1.330724e+09</td>\n",
       "      <td>NaN</td>\n",
       "      <td>bberrry</td>\n",
       "      <td>273.0</td>\n",
       "      <td>49</td>\n",
       "    </tr>\n",
       "    <tr>\n",
       "      <th>8</th>\n",
       "      <td>NaN</td>\n",
       "      <td>1.475393e+09</td>\n",
       "      <td>NaN</td>\n",
       "      <td>sharjeelsidd</td>\n",
       "      <td>1.0</td>\n",
       "      <td>1</td>\n",
       "    </tr>\n",
       "    <tr>\n",
       "      <th>9</th>\n",
       "      <td>github.com&amp;#x2F;allcentury</td>\n",
       "      <td>1.389810e+09</td>\n",
       "      <td>NaN</td>\n",
       "      <td>allcentury</td>\n",
       "      <td>56.0</td>\n",
       "      <td>41</td>\n",
       "    </tr>\n",
       "  </tbody>\n",
       "</table>\n",
       "</div>"
      ],
      "text/plain": [
       "                                               about       created error  \\\n",
       "0                                                NaN  1.510266e+09   NaN   \n",
       "1                          Ruby, Open Source, Devops  1.325548e+09   NaN   \n",
       "2                                                NaN  1.459331e+09   NaN   \n",
       "3  [ my public key: https:&#x2F;&#x2F;keybase.io&...  1.379698e+09   NaN   \n",
       "4  Email: ejstronge@gmail.com\\nGithub: https:&#x2...  1.355740e+09   NaN   \n",
       "5                                                NaN  1.276201e+09   NaN   \n",
       "6                                                NaN  1.382222e+09   NaN   \n",
       "7                                                NaN  1.330724e+09   NaN   \n",
       "8                                                NaN  1.475393e+09   NaN   \n",
       "9                         github.com&#x2F;allcentury  1.389810e+09   NaN   \n",
       "\n",
       "             id   karma  submitted  \n",
       "0    gcgggfxsdg    -1.0          5  \n",
       "1       sheerun   102.0         51  \n",
       "2      keypress    79.0         70  \n",
       "3       pyprism  1356.0        114  \n",
       "4     ejstronge   460.0        144  \n",
       "5     akira2501   880.0        304  \n",
       "6  matchagaucho   412.0        228  \n",
       "7       bberrry   273.0         49  \n",
       "8  sharjeelsidd     1.0          1  \n",
       "9    allcentury    56.0         41  "
      ]
     },
     "execution_count": 2,
     "metadata": {},
     "output_type": "execute_result"
    }
   ],
   "source": [
    "url = 'https://raw.githubusercontent.com/datsoftlyngby/soft2019spring-ai/master/projects/project1/users.json'\n",
    "df = pd.read_json(url)\n",
    "df.head(10)"
   ]
  },
  {
   "cell_type": "code",
   "execution_count": 3,
   "metadata": {},
   "outputs": [],
   "source": [
    "xtime = df.loc[:, 'created']\n",
    "df = df[df['created'].notnull()]\n",
    "X = np.array(df['created']).reshape(9299, 1)"
   ]
  },
  {
   "cell_type": "code",
   "execution_count": 4,
   "metadata": {},
   "outputs": [],
   "source": [
    "ypoint = df.loc[:, 'karma']\n",
    "df = df[df['karma'].notnull()]\n",
    "y = np.array(df['karma'])"
   ]
  },
  {
   "cell_type": "code",
   "execution_count": 5,
   "metadata": {},
   "outputs": [
    {
     "data": {
      "text/plain": [
       "[<matplotlib.lines.Line2D at 0x7fe378b745c0>]"
      ]
     },
     "execution_count": 5,
     "metadata": {},
     "output_type": "execute_result"
    },
    {
     "data": {
      "image/png": "[encoded data removed]",
      "text/plain": [
       "<Figure size 432x288 with 1 Axes>"
      ]
     },
     "metadata": {
      "needs_background": "light"
     },
     "output_type": "display_data"
    }
   ],
   "source": [
    "plt.plot(X, y, '.')"
   ]
  },
  {
   "cell_type": "markdown",
   "metadata": {},
   "source": [
    "Model Selection: We've chosen to use a linear regression model because we can't exactly determine a correlation between the points gained and the time it takes to get to 1000, so we go with the suggested model by the assignment"
   ]
  },
  {
   "cell_type": "code",
   "execution_count": 6,
   "metadata": {},
   "outputs": [],
   "source": [
    "from sklearn.linear_model import LinearRegression\n",
    "from sklearn.model_selection import train_test_split\n",
    "\n",
    "X_train, X_test, y_train, y_test = train_test_split(X, y, test_size=0.33, random_state=42, shuffle=True)"
   ]
  },
  {
   "cell_type": "code",
   "execution_count": 7,
   "metadata": {},
   "outputs": [
    {
     "data": {
      "text/plain": [
       "LinearRegression(copy_X=True, fit_intercept=True, n_jobs=None,\n",
       "         normalize=False)"
      ]
     },
     "execution_count": 7,
     "metadata": {},
     "output_type": "execute_result"
    }
   ],
   "source": [
    "model = LinearRegression()\n",
    "model.fit(X_train, y_train)"
   ]
  },
  {
   "cell_type": "code",
   "execution_count": 8,
   "metadata": {},
   "outputs": [
    {
     "data": {
      "text/plain": [
       "array([6790.37378978, 7537.20219236, 7154.23331371, ..., 4639.63369152,\n",
       "       5896.96447282, 5905.49106938])"
      ]
     },
     "execution_count": 8,
     "metadata": {},
     "output_type": "execute_result"
    }
   ],
   "source": [
    "prediction = model.predict(X_test)\n",
    "prediction"
   ]
  },
  {
   "cell_type": "code",
   "execution_count": 9,
   "metadata": {},
   "outputs": [
    {
     "data": {
      "text/plain": [
       "3069"
      ]
     },
     "execution_count": 9,
     "metadata": {},
     "output_type": "execute_result"
    }
   ],
   "source": [
    "len(prediction)"
   ]
  },
  {
   "cell_type": "code",
   "execution_count": 10,
   "metadata": {},
   "outputs": [
    {
     "name": "stdout",
     "output_type": "stream",
     "text": [
      "Coefficient: [-3.70900589e-05]\n",
      "Intercept: 55271.935993934785\n"
     ]
    }
   ],
   "source": [
    "coefficient = model.coef_\n",
    "intercept = model.intercept_\n",
    "print (\"Coefficient:\",coefficient)\n",
    "print (\"Intercept:\",intercept)"
   ]
  },
  {
   "cell_type": "code",
   "execution_count": 11,
   "metadata": {},
   "outputs": [
    {
     "data": {
      "image/png": "[encoded data removed]",
      "text/plain": [
       "<Figure size 432x288 with 1 Axes>"
      ]
     },
     "metadata": {
      "needs_background": "light"
     },
     "output_type": "display_data"
    }
   ],
   "source": [
    "y_pred = prediction\n",
    "plt.plot(y_test, y_pred, '.')\n",
    "x_axis = np.linspace(-1000, 12500, 3069)\n",
    "y_axis = x_axis\n",
    "plt.plot(x_axis, y_axis)\n",
    "plt.show()"
   ]
  },
  {
   "cell_type": "markdown",
   "metadata": {},
   "source": [
    "Part 2"
   ]
  },
  {
   "cell_type": "code",
   "execution_count": 12,
   "metadata": {},
   "outputs": [],
   "source": [
    "zpost = df.loc[:, 'submitted']\n",
    "df = df[df['submitted'].notnull()]\n",
    "Z = np.array(df['submitted']).reshape(9299, 1)"
   ]
  },
  {
   "cell_type": "code",
   "execution_count": 13,
   "metadata": {},
   "outputs": [
    {
     "data": {
      "text/plain": [
       "[<matplotlib.lines.Line2D at 0x7fe37774e7f0>]"
      ]
     },
     "execution_count": 13,
     "metadata": {},
     "output_type": "execute_result"
    },
    {
     "data": {
      "image/png": "[encoded data removed]",
      "text/plain": [
       "<Figure size 432x288 with 1 Axes>"
      ]
     },
     "metadata": {
      "needs_background": "light"
     },
     "output_type": "display_data"
    }
   ],
   "source": [
    "plt.plot(Z, y, '.')"
   ]
  },
  {
   "cell_type": "code",
   "execution_count": 14,
   "metadata": {},
   "outputs": [],
   "source": [
    "Z_train, Z_test, yz_train, yz_test = train_test_split(Z, y, test_size=0.33, random_state=42, shuffle=True)"
   ]
  },
  {
   "cell_type": "code",
   "execution_count": 15,
   "metadata": {},
   "outputs": [
    {
     "data": {
      "text/plain": [
       "LinearRegression(copy_X=True, fit_intercept=True, n_jobs=None,\n",
       "         normalize=False)"
      ]
     },
     "execution_count": 15,
     "metadata": {},
     "output_type": "execute_result"
    }
   ],
   "source": [
    "model_z = LinearRegression()\n",
    "model_z.fit(Z_train, yz_train)"
   ]
  },
  {
   "cell_type": "code",
   "execution_count": 16,
   "metadata": {},
   "outputs": [
    {
     "data": {
      "text/plain": [
       "array([47095.14228734,  1122.05981496,   264.09487808, ...,\n",
       "        1459.71053205,  8564.21373514,  3950.57647782])"
      ]
     },
     "execution_count": 16,
     "metadata": {},
     "output_type": "execute_result"
    }
   ],
   "source": [
    "prediction_z = model_z.predict(Z_test)\n",
    "prediction_z"
   ]
  },
  {
   "cell_type": "code",
   "execution_count": 17,
   "metadata": {},
   "outputs": [
    {
     "data": {
      "text/plain": [
       "3069"
      ]
     },
     "execution_count": 17,
     "metadata": {},
     "output_type": "execute_result"
    }
   ],
   "source": [
    "len(prediction_z)"
   ]
  },
  {
   "cell_type": "code",
   "execution_count": 18,
   "metadata": {},
   "outputs": [
    {
     "name": "stdout",
     "output_type": "stream",
     "text": [
      "Coefficient: [2.76762883]\n",
      "Intercept: 214.27755916513524\n"
     ]
    }
   ],
   "source": [
    "coefficient_z = model_z.coef_\n",
    "intercept_z = model_z.intercept_\n",
    "print (\"Coefficient:\",coefficient_z)\n",
    "print (\"Intercept:\",intercept_z)"
   ]
  },
  {
   "cell_type": "code",
   "execution_count": 19,
   "metadata": {},
   "outputs": [
    {
     "data": {
      "image/png": "[encoded data removed]",
      "text/plain": [
       "<Figure size 432x288 with 1 Axes>"
      ]
     },
     "metadata": {
      "needs_background": "light"
     },
     "output_type": "display_data"
    }
   ],
   "source": [
    "yz_pred = prediction_z\n",
    "plt.plot(yz_test, yz_pred, '.')\n",
    "xz_axis = np.linspace(0, 62000, 3069)\n",
    "yz_axis = xz_axis\n",
    "plt.plot(xz_axis, yz_axis)\n",
    "plt.show()"
   ]
  },
  {
   "cell_type": "markdown",
   "metadata": {},
   "source": [
    "Using sklearn with multidimensional input and output samples (e.g. vectors)"
   ]
  },
  {
   "cell_type": "code",
   "execution_count": 20,
   "metadata": {},
   "outputs": [],
   "source": [
    "X_1 = X.flatten()\n",
    "X_2 = Z.flatten()\n",
    "Y = y.flatten()"
   ]
  },
  {
   "cell_type": "code",
   "execution_count": 21,
   "metadata": {},
   "outputs": [],
   "source": [
    "from pandas import DataFrame \n",
    "\n",
    "modelxyz = {'created': X_1, 'submitted': X_2, 'karma': Y}\n",
    "df_m = DataFrame(modelxyz, columns=['created','submitted','karma'])\n",
    "X_mutil = df_m[['created','submitted']].astype(object)\n",
    "y_mutil = df_m['karma'].astype(object)"
   ]
  },
  {
   "cell_type": "code",
   "execution_count": 22,
   "metadata": {},
   "outputs": [],
   "source": [
    "X_trainMutil, X_testMutil, y_trainMutil, y_testMutil = train_test_split(X_mutil, y_mutil, test_size=0.33, random_state=42, shuffle=True)"
   ]
  },
  {
   "cell_type": "code",
   "execution_count": 23,
   "metadata": {},
   "outputs": [
    {
     "data": {
      "text/plain": [
       "LinearRegression(copy_X=True, fit_intercept=True, n_jobs=None,\n",
       "         normalize=False)"
      ]
     },
     "execution_count": 23,
     "metadata": {},
     "output_type": "execute_result"
    }
   ],
   "source": [
    "modelMutil = LinearRegression()\n",
    "modelMutil.fit(X_trainMutil, y_trainMutil)"
   ]
  },
  {
   "cell_type": "code",
   "execution_count": 24,
   "metadata": {},
   "outputs": [
    {
     "data": {
      "text/plain": [
       "array([46330.21478189,  1790.29855459,   893.28291085, ...,\n",
       "        1637.98991383,  8748.5827471 ,  4267.76016908])"
      ]
     },
     "execution_count": 24,
     "metadata": {},
     "output_type": "execute_result"
    }
   ],
   "source": [
    "predictionMutil = modelMutil.predict(X_testMutil)\n",
    "predictionMutil"
   ]
  },
  {
   "cell_type": "code",
   "execution_count": 25,
   "metadata": {},
   "outputs": [
    {
     "data": {
      "text/plain": [
       "3069"
      ]
     },
     "execution_count": 25,
     "metadata": {},
     "output_type": "execute_result"
    }
   ],
   "source": [
    "len(predictionMutil)"
   ]
  },
  {
   "cell_type": "code",
   "execution_count": 26,
   "metadata": {},
   "outputs": [
    {
     "name": "stdout",
     "output_type": "stream",
     "text": [
      "Coefficient: [-6.14858271e-06  2.68880388e+00]\n",
      "Intercept: 8821.568305901863\n"
     ]
    }
   ],
   "source": [
    "coefficientMutil = modelMutil.coef_\n",
    "interceptMutil = modelMutil.intercept_\n",
    "print (\"Coefficient:\",coefficientMutil)\n",
    "print (\"Intercept:\",interceptMutil)"
   ]
  },
  {
   "cell_type": "markdown",
   "metadata": {},
   "source": [
    "3D"
   ]
  },
  {
   "cell_type": "code",
   "execution_count": 27,
   "metadata": {},
   "outputs": [],
   "source": [
    "from mpl_toolkits.mplot3d import Axes3D\n",
    "import statsmodels.formula.api as smf"
   ]
  },
  {
   "cell_type": "code",
   "execution_count": 28,
   "metadata": {},
   "outputs": [
    {
     "data": {
      "text/plain": [
       "Intercept    3291.708305\n",
       "created        -0.000002\n",
       "karma           0.250053\n",
       "dtype: float64"
      ]
     },
     "execution_count": 28,
     "metadata": {},
     "output_type": "execute_result"
    }
   ],
   "source": [
    "model3D = smf.ols(formula='submitted ~ created + karma', data=df_m)\n",
    "results_formula = model3D.fit()\n",
    "results_formula.params"
   ]
  },
  {
   "cell_type": "code",
   "execution_count": 29,
   "metadata": {},
   "outputs": [],
   "source": [
    "x_surf, y_surf = np.meshgrid(np.linspace(df_m.created.min(), df_m.created.max(), 100),np.linspace(df_m.karma.min(), df_m.karma.max(), 100))\n",
    "onlyX = DataFrame({'created': x_surf.ravel(), 'karma': y_surf.ravel()})\n",
    "fittedY = results_formula.predict(exog=onlyX)"
   ]
  },
  {
   "cell_type": "code",
   "execution_count": 30,
   "metadata": {},
   "outputs": [
    {
     "data": {
      "application/javascript": [
       "/* Put everything inside the global mpl namespace */\n",
       "window.mpl = {};\n",
       "\n",
       "\n",
       "mpl.get_websocket_type = function() {\n",
       "    if (typeof(WebSocket) !== 'undefined') {\n",
       "        return WebSocket;\n",
       "    } else if (typeof(MozWebSocket) !== 'undefined') {\n",
       "        return MozWebSocket;\n",
       "    } else {\n",
       "        alert('Your browser does not have WebSocket support.' +\n",
       "              'Please try Chrome, Safari or Firefox ≥ 6. ' +\n",
       "              'Firefox 4 and 5 are also supported but you ' +\n",
       "              'have to enable WebSockets in about:config.');\n",
       "    };\n",
       "}\n",
       "\n",
       "mpl.figure = function(figure_id, websocket, ondownload, parent_element) {\n",
       "    this.id = figure_id;\n",
       "\n",
       "    this.ws = websocket;\n",
       "\n",
       "    this.supports_binary = (this.ws.binaryType != undefined);\n",
       "\n",
       "    if (!this.supports_binary) {\n",
       "        var warnings = document.getElementById(\"mpl-warnings\");\n",
       "        if (warnings) {\n",
       "            warnings.style.display = 'block';\n",
       "            warnings.textContent = (\n",
       "                \"This browser does not support binary websocket messages. \" +\n",
       "                    \"Performance may be slow.\");\n",
       "        }\n",
       "    }\n",
       "\n",
       "    this.imageObj = new Image();\n",
       "\n",
       "    this.context = undefined;\n",
       "    this.message = undefined;\n",
       "    this.canvas = undefined;\n",
       "    this.rubberband_canvas = undefined;\n",
       "    this.rubberband_context = undefined;\n",
       "    this.format_dropdown = undefined;\n",
       "\n",
       "    this.image_mode = 'full';\n",
       "\n",
       "    this.root = $('<div/>');\n",
       "    this._root_extra_style(this.root)\n",
       "    this.root.attr('style', 'display: inline-block');\n",
       "\n",
       "    $(parent_element).append(this.root);\n",
       "\n",
       "    this._init_header(this);\n",
       "    this._init_canvas(this);\n",
       "    this._init_toolbar(this);\n",
       "\n",
       "    var fig = this;\n",
       "\n",
       "    this.waiting = false;\n",
       "\n",
       "    this.ws.onopen =  function () {\n",
       "            fig.send_message(\"supports_binary\", {value: fig.supports_binary});\n",
       "            fig.send_message(\"send_image_mode\", {});\n",
       "            if (mpl.ratio != 1) {\n",
       "                fig.send_message(\"set_dpi_ratio\", {'dpi_ratio': mpl.ratio});\n",
       "            }\n",
       "            fig.send_message(\"refresh\", {});\n",
       "        }\n",
       "\n",
       "    this.imageObj.onload = function() {\n",
       "            if (fig.image_mode == 'full') {\n",
       "                // Full images could contain transparency (where diff images\n",
       "                // almost always do), so we need to clear the canvas so that\n",
       "                // there is no ghosting.\n",
       "                fig.context.clearRect(0, 0, fig.canvas.width, fig.canvas.height);\n",
       "            }\n",
       "            fig.context.drawImage(fig.imageObj, 0, 0);\n",
       "        };\n",
       "\n",
       "    this.imageObj.onunload = function() {\n",
       "        fig.ws.close();\n",
       "    }\n",
       "\n",
       "    this.ws.onmessage = this._make_on_message_function(this);\n",
       "\n",
       "    this.ondownload = ondownload;\n",
       "}\n",
       "\n",
       "mpl.figure.prototype._init_header = function() {\n",
       "    var titlebar = $(\n",
       "        '<div class=\"ui-dialog-titlebar ui-widget-header ui-corner-all ' +\n",
       "        'ui-helper-clearfix\"/>');\n",
       "    var titletext = $(\n",
       "        '<div class=\"ui-dialog-title\" style=\"width: 100%; ' +\n",
       "        'text-align: center; padding: 3px;\"/>');\n",
       "    titlebar.append(titletext)\n",
       "    this.root.append(titlebar);\n",
       "    this.header = titletext[0];\n",
       "}\n",
       "\n",
       "\n",
       "\n",
       "mpl.figure.prototype._canvas_extra_style = function(canvas_div) {\n",
       "\n",
       "}\n",
       "\n",
       "\n",
       "mpl.figure.prototype._root_extra_style = function(canvas_div) {\n",
       "\n",
       "}\n",
       "\n",
       "mpl.figure.prototype._init_canvas = function() {\n",
       "    var fig = this;\n",
       "\n",
       "    var canvas_div = $('<div/>');\n",
       "\n",
       "    canvas_div.attr('style', 'position: relative; clear: both; outline: 0');\n",
       "\n",
       "    function canvas_keyboard_event(event) {\n",
       "        return fig.key_event(event, event['data']);\n",
       "    }\n",
       "\n",
       "    canvas_div.keydown('key_press', canvas_keyboard_event);\n",
       "    canvas_div.keyup('key_release', canvas_keyboard_event);\n",
       "    this.canvas_div = canvas_div\n",
       "    this._canvas_extra_style(canvas_div)\n",
       "    this.root.append(canvas_div);\n",
       "\n",
       "    var canvas = $('<canvas/>');\n",
       "    canvas.addClass('mpl-canvas');\n",
       "    canvas.attr('style', \"left: 0; top: 0; z-index: 0; outline: 0\")\n",
       "\n",
       "    this.canvas = canvas[0];\n",
       "    this.context = canvas[0].getContext(\"2d\");\n",
       "\n",
       "    var backingStore = this.context.backingStorePixelRatio ||\n",
       "\tthis.context.webkitBackingStorePixelRatio ||\n",
       "\tthis.context.mozBackingStorePixelRatio ||\n",
       "\tthis.context.msBackingStorePixelRatio ||\n",
       "\tthis.context.oBackingStorePixelRatio ||\n",
       "\tthis.context.backingStorePixelRatio || 1;\n",
       "\n",
       "    mpl.ratio = (window.devicePixelRatio || 1) / backingStore;\n",
       "\n",
       "    var rubberband = $('<canvas/>');\n",
       "    rubberband.attr('style', \"position: absolute; left: 0; top: 0; z-index: 1;\")\n",
       "\n",
       "    var pass_mouse_events = true;\n",
       "\n",
       "    canvas_div.resizable({\n",
       "        start: function(event, ui) {\n",
       "            pass_mouse_events = false;\n",
       "        },\n",
       "        resize: function(event, ui) {\n",
       "            fig.request_resize(ui.size.width, ui.size.height);\n",
       "        },\n",
       "        stop: function(event, ui) {\n",
       "            pass_mouse_events = true;\n",
       "            fig.request_resize(ui.size.width, ui.size.height);\n",
       "        },\n",
       "    });\n",
       "\n",
       "    function mouse_event_fn(event) {\n",
       "        if (pass_mouse_events)\n",
       "            return fig.mouse_event(event, event['data']);\n",
       "    }\n",
       "\n",
       "    rubberband.mousedown('button_press', mouse_event_fn);\n",
       "    rubberband.mouseup('button_release', mouse_event_fn);\n",
       "    // Throttle sequential mouse events to 1 every 20ms.\n",
       "    rubberband.mousemove('motion_notify', mouse_event_fn);\n",
       "\n",
       "    rubberband.mouseenter('figure_enter', mouse_event_fn);\n",
       "    rubberband.mouseleave('figure_leave', mouse_event_fn);\n",
       "\n",
       "    canvas_div.on(\"wheel\", function (event) {\n",
       "        event = event.originalEvent;\n",
       "        event['data'] = 'scroll'\n",
       "        if (event.deltaY < 0) {\n",
       "            event.step = 1;\n",
       "        } else {\n",
       "            event.step = -1;\n",
       "        }\n",
       "        mouse_event_fn(event);\n",
       "    });\n",
       "\n",
       "    canvas_div.append(canvas);\n",
       "    canvas_div.append(rubberband);\n",
       "\n",
       "    this.rubberband = rubberband;\n",
       "    this.rubberband_canvas = rubberband[0];\n",
       "    this.rubberband_context = rubberband[0].getContext(\"2d\");\n",
       "    this.rubberband_context.strokeStyle = \"#000000\";\n",
       "\n",
       "    this._resize_canvas = function(width, height) {\n",
       "        // Keep the size of the canvas, canvas container, and rubber band\n",
       "        // canvas in synch.\n",
       "        canvas_div.css('width', width)\n",
       "        canvas_div.css('height', height)\n",
       "\n",
       "        canvas.attr('width', width * mpl.ratio);\n",
       "        canvas.attr('height', height * mpl.ratio);\n",
       "        canvas.attr('style', 'width: ' + width + 'px; height: ' + height + 'px;');\n",
       "\n",
       "        rubberband.attr('width', width);\n",
       "        rubberband.attr('height', height);\n",
       "    }\n",
       "\n",
       "    // Set the figure to an initial 600x600px, this will subsequently be updated\n",
       "    // upon first draw.\n",
       "    this._resize_canvas(600, 600);\n",
       "\n",
       "    // Disable right mouse context menu.\n",
       "    $(this.rubberband_canvas).bind(\"contextmenu\",function(e){\n",
       "        return false;\n",
       "    });\n",
       "\n",
       "    function set_focus () {\n",
       "        canvas.focus();\n",
       "        canvas_div.focus();\n",
       "    }\n",
       "\n",
       "    window.setTimeout(set_focus, 100);\n",
       "}\n",
       "\n",
       "mpl.figure.prototype._init_toolbar = function() {\n",
       "    var fig = this;\n",
       "\n",
       "    var nav_element = $('<div/>')\n",
       "    nav_element.attr('style', 'width: 100%');\n",
       "    this.root.append(nav_element);\n",
       "\n",
       "    // Define a callback function for later on.\n",
       "    function toolbar_event(event) {\n",
       "        return fig.toolbar_button_onclick(event['data']);\n",
       "    }\n",
       "    function toolbar_mouse_event(event) {\n",
       "        return fig.toolbar_button_onmouseover(event['data']);\n",
       "    }\n",
       "\n",
       "    for(var toolbar_ind in mpl.toolbar_items) {\n",
       "        var name = mpl.toolbar_items[toolbar_ind][0];\n",
       "        var tooltip = mpl.toolbar_items[toolbar_ind][1];\n",
       "        var image = mpl.toolbar_items[toolbar_ind][2];\n",
       "        var method_name = mpl.toolbar_items[toolbar_ind][3];\n",
       "\n",
       "        if (!name) {\n",
       "            // put a spacer in here.\n",
       "            continue;\n",
       "        }\n",
       "        var button = $('<button/>');\n",
       "        button.addClass('ui-button ui-widget ui-state-default ui-corner-all ' +\n",
       "                        'ui-button-icon-only');\n",
       "        button.attr('role', 'button');\n",
       "        button.attr('aria-disabled', 'false');\n",
       "        button.click(method_name, toolbar_event);\n",
       "        button.mouseover(tooltip, toolbar_mouse_event);\n",
       "\n",
       "        var icon_img = $('<span/>');\n",
       "        icon_img.addClass('ui-button-icon-primary ui-icon');\n",
       "        icon_img.addClass(image);\n",
       "        icon_img.addClass('ui-corner-all');\n",
       "\n",
       "        var tooltip_span = $('<span/>');\n",
       "        tooltip_span.addClass('ui-button-text');\n",
       "        tooltip_span.html(tooltip);\n",
       "\n",
       "        button.append(icon_img);\n",
       "        button.append(tooltip_span);\n",
       "\n",
       "        nav_element.append(button);\n",
       "    }\n",
       "\n",
       "    var fmt_picker_span = $('<span/>');\n",
       "\n",
       "    var fmt_picker = $('<select/>');\n",
       "    fmt_picker.addClass('mpl-toolbar-option ui-widget ui-widget-content');\n",
       "    fmt_picker_span.append(fmt_picker);\n",
       "    nav_element.append(fmt_picker_span);\n",
       "    this.format_dropdown = fmt_picker[0];\n",
       "\n",
       "    for (var ind in mpl.extensions) {\n",
       "        var fmt = mpl.extensions[ind];\n",
       "        var option = $(\n",
       "            '<option/>', {selected: fmt === mpl.default_extension}).html(fmt);\n",
       "        fmt_picker.append(option)\n",
       "    }\n",
       "\n",
       "    // Add hover states to the ui-buttons\n",
       "    $( \".ui-button\" ).hover(\n",
       "        function() { $(this).addClass(\"ui-state-hover\");},\n",
       "        function() { $(this).removeClass(\"ui-state-hover\");}\n",
       "    );\n",
       "\n",
       "    var status_bar = $('<span class=\"mpl-message\"/>');\n",
       "    nav_element.append(status_bar);\n",
       "    this.message = status_bar[0];\n",
       "}\n",
       "\n",
       "mpl.figure.prototype.request_resize = function(x_pixels, y_pixels) {\n",
       "    // Request matplotlib to resize the figure. Matplotlib will then trigger a resize in the client,\n",
       "    // which will in turn request a refresh of the image.\n",
       "    this.send_message('resize', {'width': x_pixels, 'height': y_pixels});\n",
       "}\n",
       "\n",
       "mpl.figure.prototype.send_message = function(type, properties) {\n",
       "    properties['type'] = type;\n",
       "    properties['figure_id'] = this.id;\n",
       "    this.ws.send(JSON.stringify(properties));\n",
       "}\n",
       "\n",
       "mpl.figure.prototype.send_draw_message = function() {\n",
       "    if (!this.waiting) {\n",
       "        this.waiting = true;\n",
       "        this.ws.send(JSON.stringify({type: \"draw\", figure_id: this.id}));\n",
       "    }\n",
       "}\n",
       "\n",
       "\n",
       "mpl.figure.prototype.handle_save = function(fig, msg) {\n",
       "    var format_dropdown = fig.format_dropdown;\n",
       "    var format = format_dropdown.options[format_dropdown.selectedIndex].value;\n",
       "    fig.ondownload(fig, format);\n",
       "}\n",
       "\n",
       "\n",
       "mpl.figure.prototype.handle_resize = function(fig, msg) {\n",
       "    var size = msg['size'];\n",
       "    if (size[0] != fig.canvas.width || size[1] != fig.canvas.height) {\n",
       "        fig._resize_canvas(size[0], size[1]);\n",
       "        fig.send_message(\"refresh\", {});\n",
       "    };\n",
       "}\n",
       "\n",
       "mpl.figure.prototype.handle_rubberband = function(fig, msg) {\n",
       "    var x0 = msg['x0'] / mpl.ratio;\n",
       "    var y0 = (fig.canvas.height - msg['y0']) / mpl.ratio;\n",
       "    var x1 = msg['x1'] / mpl.ratio;\n",
       "    var y1 = (fig.canvas.height - msg['y1']) / mpl.ratio;\n",
       "    x0 = Math.floor(x0) + 0.5;\n",
       "    y0 = Math.floor(y0) + 0.5;\n",
       "    x1 = Math.floor(x1) + 0.5;\n",
       "    y1 = Math.floor(y1) + 0.5;\n",
       "    var min_x = Math.min(x0, x1);\n",
       "    var min_y = Math.min(y0, y1);\n",
       "    var width = Math.abs(x1 - x0);\n",
       "    var height = Math.abs(y1 - y0);\n",
       "\n",
       "    fig.rubberband_context.clearRect(\n",
       "        0, 0, fig.canvas.width, fig.canvas.height);\n",
       "\n",
       "    fig.rubberband_context.strokeRect(min_x, min_y, width, height);\n",
       "}\n",
       "\n",
       "mpl.figure.prototype.handle_figure_label = function(fig, msg) {\n",
       "    // Updates the figure title.\n",
       "    fig.header.textContent = msg['label'];\n",
       "}\n",
       "\n",
       "mpl.figure.prototype.handle_cursor = function(fig, msg) {\n",
       "    var cursor = msg['cursor'];\n",
       "    switch(cursor)\n",
       "    {\n",
       "    case 0:\n",
       "        cursor = 'pointer';\n",
       "        break;\n",
       "    case 1:\n",
       "        cursor = 'default';\n",
       "        break;\n",
       "    case 2:\n",
       "        cursor = 'crosshair';\n",
       "        break;\n",
       "    case 3:\n",
       "        cursor = 'move';\n",
       "        break;\n",
       "    }\n",
       "    fig.rubberband_canvas.style.cursor = cursor;\n",
       "}\n",
       "\n",
       "mpl.figure.prototype.handle_message = function(fig, msg) {\n",
       "    fig.message.textContent = msg['message'];\n",
       "}\n",
       "\n",
       "mpl.figure.prototype.handle_draw = function(fig, msg) {\n",
       "    // Request the server to send over a new figure.\n",
       "    fig.send_draw_message();\n",
       "}\n",
       "\n",
       "mpl.figure.prototype.handle_image_mode = function(fig, msg) {\n",
       "    fig.image_mode = msg['mode'];\n",
       "}\n",
       "\n",
       "mpl.figure.prototype.updated_canvas_event = function() {\n",
       "    // Called whenever the canvas gets updated.\n",
       "    this.send_message(\"ack\", {});\n",
       "}\n",
       "\n",
       "// A function to construct a web socket function for onmessage handling.\n",
       "// Called in the figure constructor.\n",
       "mpl.figure.prototype._make_on_message_function = function(fig) {\n",
       "    return function socket_on_message(evt) {\n",
       "        if (evt.data instanceof Blob) {\n",
       "            /* FIXME: We get \"Resource interpreted as Image but\n",
       "             * transferred with MIME type text/plain:\" errors on\n",
       "             * Chrome.  But how to set the MIME type?  It doesn't seem\n",
       "             * to be part of the websocket stream */\n",
       "            evt.data.type = \"image/png\";\n",
       "\n",
       "            /* Free the memory for the previous frames */\n",
       "            if (fig.imageObj.src) {\n",
       "                (window.URL || window.webkitURL).revokeObjectURL(\n",
       "                    fig.imageObj.src);\n",
       "            }\n",
       "\n",
       "            fig.imageObj.src = (window.URL || window.webkitURL).createObjectURL(\n",
       "                evt.data);\n",
       "            fig.updated_canvas_event();\n",
       "            fig.waiting = false;\n",
       "            return;\n",
       "        }\n",
       "        else if (typeof evt.data === 'string' && evt.data.slice(0, 21) == \"data:image/png;base64\") {\n",
       "            fig.imageObj.src = evt.data;\n",
       "            fig.updated_canvas_event();\n",
       "            fig.waiting = false;\n",
       "            return;\n",
       "        }\n",
       "\n",
       "        var msg = JSON.parse(evt.data);\n",
       "        var msg_type = msg['type'];\n",
       "\n",
       "        // Call the  \"handle_{type}\" callback, which takes\n",
       "        // the figure and JSON message as its only arguments.\n",
       "        try {\n",
       "            var callback = fig[\"handle_\" + msg_type];\n",
       "        } catch (e) {\n",
       "            console.log(\"No handler for the '\" + msg_type + \"' message type: \", msg);\n",
       "            return;\n",
       "        }\n",
       "\n",
       "        if (callback) {\n",
       "            try {\n",
       "                // console.log(\"Handling '\" + msg_type + \"' message: \", msg);\n",
       "                callback(fig, msg);\n",
       "            } catch (e) {\n",
       "                console.log(\"Exception inside the 'handler_\" + msg_type + \"' callback:\", e, e.stack, msg);\n",
       "            }\n",
       "        }\n",
       "    };\n",
       "}\n",
       "\n",
       "// from http://stackoverflow.com/questions/1114465/getting-mouse-location-in-canvas\n",
       "mpl.findpos = function(e) {\n",
       "    //this section is from http://www.quirksmode.org/js/events_properties.html\n",
       "    var targ;\n",
       "    if (!e)\n",
       "        e = window.event;\n",
       "    if (e.target)\n",
       "        targ = e.target;\n",
       "    else if (e.srcElement)\n",
       "        targ = e.srcElement;\n",
       "    if (targ.nodeType == 3) // defeat Safari bug\n",
       "        targ = targ.parentNode;\n",
       "\n",
       "    // jQuery normalizes the pageX and pageY\n",
       "    // pageX,Y are the mouse positions relative to the document\n",
       "    // offset() returns the position of the element relative to the document\n",
       "    var x = e.pageX - $(targ).offset().left;\n",
       "    var y = e.pageY - $(targ).offset().top;\n",
       "\n",
       "    return {\"x\": x, \"y\": y};\n",
       "};\n",
       "\n",
       "/*\n",
       " * return a copy of an object with only non-object keys\n",
       " * we need this to avoid circular references\n",
       " * http://stackoverflow.com/a/24161582/3208463\n",
       " */\n",
       "function simpleKeys (original) {\n",
       "  return Object.keys(original).reduce(function (obj, key) {\n",
       "    if (typeof original[key] !== 'object')\n",
       "        obj[key] = original[key]\n",
       "    return obj;\n",
       "  }, {});\n",
       "}\n",
       "\n",
       "mpl.figure.prototype.mouse_event = function(event, name) {\n",
       "    var canvas_pos = mpl.findpos(event)\n",
       "\n",
       "    if (name === 'button_press')\n",
       "    {\n",
       "        this.canvas.focus();\n",
       "        this.canvas_div.focus();\n",
       "    }\n",
       "\n",
       "    var x = canvas_pos.x * mpl.ratio;\n",
       "    var y = canvas_pos.y * mpl.ratio;\n",
       "\n",
       "    this.send_message(name, {x: x, y: y, button: event.button,\n",
       "                             step: event.step,\n",
       "                             guiEvent: simpleKeys(event)});\n",
       "\n",
       "    /* This prevents the web browser from automatically changing to\n",
       "     * the text insertion cursor when the button is pressed.  We want\n",
       "     * to control all of the cursor setting manually through the\n",
       "     * 'cursor' event from matplotlib */\n",
       "    event.preventDefault();\n",
       "    return false;\n",
       "}\n",
       "\n",
       "mpl.figure.prototype._key_event_extra = function(event, name) {\n",
       "    // Handle any extra behaviour associated with a key event\n",
       "}\n",
       "\n",
       "mpl.figure.prototype.key_event = function(event, name) {\n",
       "\n",
       "    // Prevent repeat events\n",
       "    if (name == 'key_press')\n",
       "    {\n",
       "        if (event.which === this._key)\n",
       "            return;\n",
       "        else\n",
       "            this._key = event.which;\n",
       "    }\n",
       "    if (name == 'key_release')\n",
       "        this._key = null;\n",
       "\n",
       "    var value = '';\n",
       "    if (event.ctrlKey && event.which != 17)\n",
       "        value += \"ctrl+\";\n",
       "    if (event.altKey && event.which != 18)\n",
       "        value += \"alt+\";\n",
       "    if (event.shiftKey && event.which != 16)\n",
       "        value += \"shift+\";\n",
       "\n",
       "    value += 'k';\n",
       "    value += event.which.toString();\n",
       "\n",
       "    this._key_event_extra(event, name);\n",
       "\n",
       "    this.send_message(name, {key: value,\n",
       "                             guiEvent: simpleKeys(event)});\n",
       "    return false;\n",
       "}\n",
       "\n",
       "mpl.figure.prototype.toolbar_button_onclick = function(name) {\n",
       "    if (name == 'download') {\n",
       "        this.handle_save(this, null);\n",
       "    } else {\n",
       "        this.send_message(\"toolbar_button\", {name: name});\n",
       "    }\n",
       "};\n",
       "\n",
       "mpl.figure.prototype.toolbar_button_onmouseover = function(tooltip) {\n",
       "    this.message.textContent = tooltip;\n",
       "};\n",
       "mpl.toolbar_items = [[\"Home\", \"Reset original view\", \"fa fa-home icon-home\", \"home\"], [\"Back\", \"Back to previous view\", \"fa fa-arrow-left icon-arrow-left\", \"back\"], [\"Forward\", \"Forward to next view\", \"fa fa-arrow-right icon-arrow-right\", \"forward\"], [\"\", \"\", \"\", \"\"], [\"Pan\", \"Pan axes with left mouse, zoom with right\", \"fa fa-arrows icon-move\", \"pan\"], [\"Zoom\", \"Zoom to rectangle\", \"fa fa-square-o icon-check-empty\", \"zoom\"], [\"\", \"\", \"\", \"\"], [\"Download\", \"Download plot\", \"fa fa-floppy-o icon-save\", \"download\"]];\n",
       "\n",
       "mpl.extensions = [\"eps\", \"jpeg\", \"pdf\", \"png\", \"ps\", \"raw\", \"svg\", \"tif\"];\n",
       "\n",
       "mpl.default_extension = \"png\";var comm_websocket_adapter = function(comm) {\n",
       "    // Create a \"websocket\"-like object which calls the given IPython comm\n",
       "    // object with the appropriate methods. Currently this is a non binary\n",
       "    // socket, so there is still some room for performance tuning.\n",
       "    var ws = {};\n",
       "\n",
       "    ws.close = function() {\n",
       "        comm.close()\n",
       "    };\n",
       "    ws.send = function(m) {\n",
       "        //console.log('sending', m);\n",
       "        comm.send(m);\n",
       "    };\n",
       "    // Register the callback with on_msg.\n",
       "    comm.on_msg(function(msg) {\n",
       "        //console.log('receiving', msg['content']['data'], msg);\n",
       "        // Pass the mpl event to the overridden (by mpl) onmessage function.\n",
       "        ws.onmessage(msg['content']['data'])\n",
       "    });\n",
       "    return ws;\n",
       "}\n",
       "\n",
       "mpl.mpl_figure_comm = function(comm, msg) {\n",
       "    // This is the function which gets called when the mpl process\n",
       "    // starts-up an IPython Comm through the \"matplotlib\" channel.\n",
       "\n",
       "    var id = msg.content.data.id;\n",
       "    // Get hold of the div created by the display call when the Comm\n",
       "    // socket was opened in Python.\n",
       "    var element = $(\"#\" + id);\n",
       "    var ws_proxy = comm_websocket_adapter(comm)\n",
       "\n",
       "    function ondownload(figure, format) {\n",
       "        window.open(figure.imageObj.src);\n",
       "    }\n",
       "\n",
       "    var fig = new mpl.figure(id, ws_proxy,\n",
       "                           ondownload,\n",
       "                           element.get(0));\n",
       "\n",
       "    // Call onopen now - mpl needs it, as it is assuming we've passed it a real\n",
       "    // web socket which is closed, not our websocket->open comm proxy.\n",
       "    ws_proxy.onopen();\n",
       "\n",
       "    fig.parent_element = element.get(0);\n",
       "    fig.cell_info = mpl.find_output_cell(\"<div id='\" + id + \"'></div>\");\n",
       "    if (!fig.cell_info) {\n",
       "        console.error(\"Failed to find cell for figure\", id, fig);\n",
       "        return;\n",
       "    }\n",
       "\n",
       "    var output_index = fig.cell_info[2]\n",
       "    var cell = fig.cell_info[0];\n",
       "\n",
       "};\n",
       "\n",
       "mpl.figure.prototype.handle_close = function(fig, msg) {\n",
       "    var width = fig.canvas.width/mpl.ratio\n",
       "    fig.root.unbind('remove')\n",
       "\n",
       "    // Update the output cell to use the data from the current canvas.\n",
       "    fig.push_to_output();\n",
       "    var dataURL = fig.canvas.toDataURL();\n",
       "    // Re-enable the keyboard manager in IPython - without this line, in FF,\n",
       "    // the notebook keyboard shortcuts fail.\n",
       "    IPython.keyboard_manager.enable()\n",
       "    $(fig.parent_element).html('<img src=\"' + dataURL + '\" width=\"' + width + '\">');\n",
       "    fig.close_ws(fig, msg);\n",
       "}\n",
       "\n",
       "mpl.figure.prototype.close_ws = function(fig, msg){\n",
       "    fig.send_message('closing', msg);\n",
       "    // fig.ws.close()\n",
       "}\n",
       "\n",
       "mpl.figure.prototype.push_to_output = function(remove_interactive) {\n",
       "    // Turn the data on the canvas into data in the output cell.\n",
       "    var width = this.canvas.width/mpl.ratio\n",
       "    var dataURL = this.canvas.toDataURL();\n",
       "    this.cell_info[1]['text/html'] = '<img src=\"' + dataURL + '\" width=\"' + width + '\">';\n",
       "}\n",
       "\n",
       "mpl.figure.prototype.updated_canvas_event = function() {\n",
       "    // Tell IPython that the notebook contents must change.\n",
       "    IPython.notebook.set_dirty(true);\n",
       "    this.send_message(\"ack\", {});\n",
       "    var fig = this;\n",
       "    // Wait a second, then push the new image to the DOM so\n",
       "    // that it is saved nicely (might be nice to debounce this).\n",
       "    setTimeout(function () { fig.push_to_output() }, 1000);\n",
       "}\n",
       "\n",
       "mpl.figure.prototype._init_toolbar = function() {\n",
       "    var fig = this;\n",
       "\n",
       "    var nav_element = $('<div/>')\n",
       "    nav_element.attr('style', 'width: 100%');\n",
       "    this.root.append(nav_element);\n",
       "\n",
       "    // Define a callback function for later on.\n",
       "    function toolbar_event(event) {\n",
       "        return fig.toolbar_button_onclick(event['data']);\n",
       "    }\n",
       "    function toolbar_mouse_event(event) {\n",
       "        return fig.toolbar_button_onmouseover(event['data']);\n",
       "    }\n",
       "\n",
       "    for(var toolbar_ind in mpl.toolbar_items){\n",
       "        var name = mpl.toolbar_items[toolbar_ind][0];\n",
       "        var tooltip = mpl.toolbar_items[toolbar_ind][1];\n",
       "        var image = mpl.toolbar_items[toolbar_ind][2];\n",
       "        var method_name = mpl.toolbar_items[toolbar_ind][3];\n",
       "\n",
       "        if (!name) { continue; };\n",
       "\n",
       "        var button = $('<button class=\"btn btn-default\" href=\"#\" title=\"' + name + '\"><i class=\"fa ' + image + ' fa-lg\"></i></button>');\n",
       "        button.click(method_name, toolbar_event);\n",
       "        button.mouseover(tooltip, toolbar_mouse_event);\n",
       "        nav_element.append(button);\n",
       "    }\n",
       "\n",
       "    // Add the status bar.\n",
       "    var status_bar = $('<span class=\"mpl-message\" style=\"text-align:right; float: right;\"/>');\n",
       "    nav_element.append(status_bar);\n",
       "    this.message = status_bar[0];\n",
       "\n",
       "    // Add the close button to the window.\n",
       "    var buttongrp = $('<div class=\"btn-group inline pull-right\"></div>');\n",
       "    var button = $('<button class=\"btn btn-mini btn-primary\" href=\"#\" title=\"Stop Interaction\"><i class=\"fa fa-power-off icon-remove icon-large\"></i></button>');\n",
       "    button.click(function (evt) { fig.handle_close(fig, {}); } );\n",
       "    button.mouseover('Stop Interaction', toolbar_mouse_event);\n",
       "    buttongrp.append(button);\n",
       "    var titlebar = this.root.find($('.ui-dialog-titlebar'));\n",
       "    titlebar.prepend(buttongrp);\n",
       "}\n",
       "\n",
       "mpl.figure.prototype._root_extra_style = function(el){\n",
       "    var fig = this\n",
       "    el.on(\"remove\", function(){\n",
       "\tfig.close_ws(fig, {});\n",
       "    });\n",
       "}\n",
       "\n",
       "mpl.figure.prototype._canvas_extra_style = function(el){\n",
       "    // this is important to make the div 'focusable\n",
       "    el.attr('tabindex', 0)\n",
       "    // reach out to IPython and tell the keyboard manager to turn it's self\n",
       "    // off when our div gets focus\n",
       "\n",
       "    // location in version 3\n",
       "    if (IPython.notebook.keyboard_manager) {\n",
       "        IPython.notebook.keyboard_manager.register_events(el);\n",
       "    }\n",
       "    else {\n",
       "        // location in version 2\n",
       "        IPython.keyboard_manager.register_events(el);\n",
       "    }\n",
       "\n",
       "}\n",
       "\n",
       "mpl.figure.prototype._key_event_extra = function(event, name) {\n",
       "    var manager = IPython.notebook.keyboard_manager;\n",
       "    if (!manager)\n",
       "        manager = IPython.keyboard_manager;\n",
       "\n",
       "    // Check for shift+enter\n",
       "    if (event.shiftKey && event.which == 13) {\n",
       "        this.canvas_div.blur();\n",
       "        event.shiftKey = false;\n",
       "        // Send a \"J\" for go to next cell\n",
       "        event.which = 74;\n",
       "        event.keyCode = 74;\n",
       "        manager.command_mode();\n",
       "        manager.handle_keydown(event);\n",
       "    }\n",
       "}\n",
       "\n",
       "mpl.figure.prototype.handle_save = function(fig, msg) {\n",
       "    fig.ondownload(fig, null);\n",
       "}\n",
       "\n",
       "\n",
       "mpl.find_output_cell = function(html_output) {\n",
       "    // Return the cell and output element which can be found *uniquely* in the notebook.\n",
       "    // Note - this is a bit hacky, but it is done because the \"notebook_saving.Notebook\"\n",
       "    // IPython event is triggered only after the cells have been serialised, which for\n",
       "    // our purposes (turning an active figure into a static one), is too late.\n",
       "    var cells = IPython.notebook.get_cells();\n",
       "    var ncells = cells.length;\n",
       "    for (var i=0; i<ncells; i++) {\n",
       "        var cell = cells[i];\n",
       "        if (cell.cell_type === 'code'){\n",
       "            for (var j=0; j<cell.output_area.outputs.length; j++) {\n",
       "                var data = cell.output_area.outputs[j];\n",
       "                if (data.data) {\n",
       "                    // IPython >= 3 moved mimebundle to data attribute of output\n",
       "                    data = data.data;\n",
       "                }\n",
       "                if (data['text/html'] == html_output) {\n",
       "                    return [cell, data, j];\n",
       "                }\n",
       "            }\n",
       "        }\n",
       "    }\n",
       "}\n",
       "\n",
       "// Register the function which deals with the matplotlib target/channel.\n",
       "// The kernel may be null if the page has been refreshed.\n",
       "if (IPython.notebook.kernel != null) {\n",
       "    IPython.notebook.kernel.comm_manager.register_target('matplotlib', mpl.mpl_figure_comm);\n",
       "}\n"
      ],
      "text/plain": [
       "<IPython.core.display.Javascript object>"
      ]
     },
     "metadata": {},
     "output_type": "display_data"
    },
    {
     "data": {
      "text/html": [
       "<img src=\"data:image/png;base64,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\" width=\"640\">"
      ],
      "text/plain": [
       "<IPython.core.display.HTML object>"
      ]
     },
     "metadata": {},
     "output_type": "display_data"
    }
   ],
   "source": [
    "%matplotlib notebook\n",
    "fig = plt.figure()\n",
    "ax = fig.add_subplot(111, projection='3d')\n",
    "ax.scatter(df_m['created'], df_m['karma'], df_m['submitted'], c='blue', marker='o', alpha=0.5)\n",
    "ax.plot_surface(x_surf, y_surf, fittedY.values.reshape(x_surf.shape), color='green', alpha=0.2)\n",
    "ax.set_xlabel('created')\n",
    "ax.set_ylabel('karma')\n",
    "ax.set_zlabel('submitted')\n",
    "plt.show()"
   ]
  },
  {
   "cell_type": "markdown",
   "metadata": {},
   "source": [
    "Part 3"
   ]
  },
  {
   "cell_type": "code",
   "execution_count": 33,
   "metadata": {},
   "outputs": [],
   "source": [
    "import os\n",
    "import requests\n",
    "\n",
    "url = 'http://archive.ics.uci.edu/ml/machine-learning-databases/breast-cancer-wisconsin/wdbc.data'\n",
    "filename = os.path.join('/tmp', os.path.basename(url))\n",
    "r = requests.get(url)\n",
    "\n",
    "with open(filename, 'wb') as f:\n",
    "    f.write(r.content)"
   ]
  },
  {
   "cell_type": "code",
   "execution_count": 35,
   "metadata": {},
   "outputs": [],
   "source": [
    "%%bash\n",
    "sed -i '1s;^;ID,Diagnosis,Mean Radius,Mean Texture,Mean Perimeter,Mean Area,Mean Smoothness,Mean Compactness,Mean Concavity,Mean Concave Points,Mean Symmetry,Mean Fractal Dimension,Radius SE,Texture SE,Perimeter SE,Area SE,Smoothness SE,Compactness SE,Concavity SE,Concave Points SE,Symmetry SE,Fractal Dimension SE,Worst Radius,Worst Texture,Worst Perimeter,Worst Area,Worst Smoothness,Worst Compactness,Worst Concavity,Worst Concave Points,Worst Symmetry,Worst Fractal Dimension\\n;' /tmp/wdbc.data"
   ]
  },
  {
   "cell_type": "code",
   "execution_count": 36,
   "metadata": {},
   "outputs": [
    {
     "name": "stdout",
     "output_type": "stream",
     "text": [
      "ID,Diagnosis,Mean Radius,Mean Texture,Mean Perimeter,Mean Area,Mean Smoothness,Mean Compactness,Mean Concavity,Mean Concave Points,Mean Symmetry,Mean Fractal Dimension,Radius SE,Texture SE,Perimeter SE,Area SE,Smoothness SE,Compactness SE,Concavity SE,Concave Points SE,Symmetry SE,Fractal Dimension SE,Worst Radius,Worst Texture,Worst Perimeter,Worst Area,Worst Smoothness,Worst Compactness,Worst Concavity,Worst Concave Points,Worst Symmetry,Worst Fractal Dimension\n",
      "ID,Diagnosis,Mean Radius,Mean Texture,Mean Perimeter,Mean Area,Mean Smoothness,Mean Compactness,Mean Concavity,Mean Concave Points,Mean Symmetry,Mean Fractal Dimension,Radius SE,Texture SE,Perimeter SE,Area SE,Smoothness SE,Compactness SE,Concavity SE,Concave Points SE,Symmetry SE,Fractal Dimension SE,Worst Radius,Worst Texture,Worst Perimeter,Worst Area,Worst Smoothness,Worst Compactness,Worst Concavity,Worst Concave Points,Worst Symmetry,Worst Fractal Dimension\n",
      "<!DOCTYPE HTML PUBLIC \"-//IETF//DTD HTML 2.0//EN\">\n",
      "<html><head>\n",
      "<title>404 Not Found</title>\n",
      "</head><body>\n",
      "<h1>Not Found</h1>\n",
      "<p>The requested URL /ml/machine-learning-databases/breast-cancer-wisconsin/wdbc.data was not found on this server.</p>\n",
      "<hr>\n",
      "<address>Apache/2.2.15 (CentOS) Server at archive.ics.uci.edu Port 80</address>\n"
     ]
    }
   ],
   "source": [
    "%%bash\n",
    "head /tmp/wdbc.data"
   ]
  },
  {
   "cell_type": "code",
   "execution_count": null,
   "metadata": {},
   "outputs": [],
   "source": [
    "data = pd.read_csv('/tmp/wdbc.data')\n",
    "data.head()"
   ]
  },
  {
   "cell_type": "code",
   "execution_count": null,
   "metadata": {},
   "outputs": [],
   "source": [
    "len(data)"
   ]
  }
 ],
 "metadata": {
  "kernelspec": {
   "display_name": "Python 3",
   "language": "python",
   "name": "python3"
  },
  "language_info": {
   "codemirror_mode": {
    "name": "ipython",
    "version": 3
   },
   "file_extension": ".py",
   "mimetype": "text/x-python",
   "name": "python",
   "nbconvert_exporter": "python",
   "pygments_lexer": "ipython3",
   "version": "3.6.7"
  }
 },
 "nbformat": 4,
 "nbformat_minor": 2
}
