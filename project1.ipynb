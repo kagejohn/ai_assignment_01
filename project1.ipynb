{
 "cells": [
  {
   "cell_type": "code",
   "execution_count": 29,
   "metadata": {},
   "outputs": [],
   "source": [
    "import pandas as pd\n",
    "import matplotlib.pyplot as plt\n",
    "import sklearn as skl\n",
    "import numpy as np"
   ]
  },
  {
   "cell_type": "code",
   "execution_count": 10,
   "metadata": {},
   "outputs": [
    {
     "data": {
      "text/html": [
       "<div>\n",
       "<style scoped>\n",
       "    .dataframe tbody tr th:only-of-type {\n",
       "        vertical-align: middle;\n",
       "    }\n",
       "\n",
       "    .dataframe tbody tr th {\n",
       "        vertical-align: top;\n",
       "    }\n",
       "\n",
       "    .dataframe thead th {\n",
       "        text-align: right;\n",
       "    }\n",
       "</style>\n",
       "<table border=\"1\" class=\"dataframe\">\n",
       "  <thead>\n",
       "    <tr style=\"text-align: right;\">\n",
       "      <th></th>\n",
       "      <th>about</th>\n",
       "      <th>created</th>\n",
       "      <th>error</th>\n",
       "      <th>id</th>\n",
       "      <th>karma</th>\n",
       "      <th>submitted</th>\n",
       "    </tr>\n",
       "  </thead>\n",
       "  <tbody>\n",
       "    <tr>\n",
       "      <th>0</th>\n",
       "      <td>NaN</td>\n",
       "      <td>1.510266e+09</td>\n",
       "      <td>NaN</td>\n",
       "      <td>gcgggfxsdg</td>\n",
       "      <td>-1.0</td>\n",
       "      <td>5</td>\n",
       "    </tr>\n",
       "    <tr>\n",
       "      <th>1</th>\n",
       "      <td>Ruby, Open Source, Devops</td>\n",
       "      <td>1.325548e+09</td>\n",
       "      <td>NaN</td>\n",
       "      <td>sheerun</td>\n",
       "      <td>102.0</td>\n",
       "      <td>51</td>\n",
       "    </tr>\n",
       "    <tr>\n",
       "      <th>2</th>\n",
       "      <td>NaN</td>\n",
       "      <td>1.459331e+09</td>\n",
       "      <td>NaN</td>\n",
       "      <td>keypress</td>\n",
       "      <td>79.0</td>\n",
       "      <td>70</td>\n",
       "    </tr>\n",
       "    <tr>\n",
       "      <th>3</th>\n",
       "      <td>[ my public key: https:&amp;#x2F;&amp;#x2F;keybase.io&amp;...</td>\n",
       "      <td>1.379698e+09</td>\n",
       "      <td>NaN</td>\n",
       "      <td>pyprism</td>\n",
       "      <td>1356.0</td>\n",
       "      <td>114</td>\n",
       "    </tr>\n",
       "    <tr>\n",
       "      <th>4</th>\n",
       "      <td>Email: ejstronge@gmail.com\\nGithub: https:&amp;#x2...</td>\n",
       "      <td>1.355740e+09</td>\n",
       "      <td>NaN</td>\n",
       "      <td>ejstronge</td>\n",
       "      <td>460.0</td>\n",
       "      <td>144</td>\n",
       "    </tr>\n",
       "    <tr>\n",
       "      <th>5</th>\n",
       "      <td>NaN</td>\n",
       "      <td>1.276201e+09</td>\n",
       "      <td>NaN</td>\n",
       "      <td>akira2501</td>\n",
       "      <td>880.0</td>\n",
       "      <td>304</td>\n",
       "    </tr>\n",
       "    <tr>\n",
       "      <th>6</th>\n",
       "      <td>NaN</td>\n",
       "      <td>1.382222e+09</td>\n",
       "      <td>NaN</td>\n",
       "      <td>matchagaucho</td>\n",
       "      <td>412.0</td>\n",
       "      <td>228</td>\n",
       "    </tr>\n",
       "    <tr>\n",
       "      <th>7</th>\n",
       "      <td>NaN</td>\n",
       "      <td>1.330724e+09</td>\n",
       "      <td>NaN</td>\n",
       "      <td>bberrry</td>\n",
       "      <td>273.0</td>\n",
       "      <td>49</td>\n",
       "    </tr>\n",
       "    <tr>\n",
       "      <th>8</th>\n",
       "      <td>NaN</td>\n",
       "      <td>1.475393e+09</td>\n",
       "      <td>NaN</td>\n",
       "      <td>sharjeelsidd</td>\n",
       "      <td>1.0</td>\n",
       "      <td>1</td>\n",
       "    </tr>\n",
       "    <tr>\n",
       "      <th>9</th>\n",
       "      <td>github.com&amp;#x2F;allcentury</td>\n",
       "      <td>1.389810e+09</td>\n",
       "      <td>NaN</td>\n",
       "      <td>allcentury</td>\n",
       "      <td>56.0</td>\n",
       "      <td>41</td>\n",
       "    </tr>\n",
       "  </tbody>\n",
       "</table>\n",
       "</div>"
      ],
      "text/plain": [
       "                                               about       created error  \\\n",
       "0                                                NaN  1.510266e+09   NaN   \n",
       "1                          Ruby, Open Source, Devops  1.325548e+09   NaN   \n",
       "2                                                NaN  1.459331e+09   NaN   \n",
       "3  [ my public key: https:&#x2F;&#x2F;keybase.io&...  1.379698e+09   NaN   \n",
       "4  Email: ejstronge@gmail.com\\nGithub: https:&#x2...  1.355740e+09   NaN   \n",
       "5                                                NaN  1.276201e+09   NaN   \n",
       "6                                                NaN  1.382222e+09   NaN   \n",
       "7                                                NaN  1.330724e+09   NaN   \n",
       "8                                                NaN  1.475393e+09   NaN   \n",
       "9                         github.com&#x2F;allcentury  1.389810e+09   NaN   \n",
       "\n",
       "             id   karma  submitted  \n",
       "0    gcgggfxsdg    -1.0          5  \n",
       "1       sheerun   102.0         51  \n",
       "2      keypress    79.0         70  \n",
       "3       pyprism  1356.0        114  \n",
       "4     ejstronge   460.0        144  \n",
       "5     akira2501   880.0        304  \n",
       "6  matchagaucho   412.0        228  \n",
       "7       bberrry   273.0         49  \n",
       "8  sharjeelsidd     1.0          1  \n",
       "9    allcentury    56.0         41  "
      ]
     },
     "execution_count": 10,
     "metadata": {},
     "output_type": "execute_result"
    }
   ],
   "source": [
    "url = 'https://raw.githubusercontent.com/datsoftlyngby/soft2019spring-ai/master/projects/project1/users.json'\n",
    "df = pd.read_json(url, orient='columns')\n",
    "df.head(10)"
   ]
  },
  {
   "cell_type": "code",
   "execution_count": 24,
   "metadata": {},
   "outputs": [
    {
     "name": "stderr",
     "output_type": "stream",
     "text": [
      "/home/ml/.local/lib/python3.6/site-packages/ipykernel_launcher.py:1: DeprecationWarning: \n",
      ".ix is deprecated. Please use\n",
      ".loc for label based indexing or\n",
      ".iloc for positional indexing\n",
      "\n",
      "See the documentation here:\n",
      "http://pandas.pydata.org/pandas-docs/stable/indexing.html#ix-indexer-is-deprecated\n",
      "  \"\"\"Entry point for launching an IPython kernel.\n"
     ]
    }
   ],
   "source": [
    "xtime = df.ix[:, 'created']"
   ]
  },
  {
   "cell_type": "code",
   "execution_count": 34,
   "metadata": {},
   "outputs": [
    {
     "name": "stderr",
     "output_type": "stream",
     "text": [
      "/home/ml/.local/lib/python3.6/site-packages/ipykernel_launcher.py:1: DeprecationWarning: \n",
      ".ix is deprecated. Please use\n",
      ".loc for label based indexing or\n",
      ".iloc for positional indexing\n",
      "\n",
      "See the documentation here:\n",
      "http://pandas.pydata.org/pandas-docs/stable/indexing.html#ix-indexer-is-deprecated\n",
      "  \"\"\"Entry point for launching an IPython kernel.\n"
     ]
    }
   ],
   "source": [
    "ypoint = df.ix[:, 'karma']"
   ]
  },
  {
   "cell_type": "code",
   "execution_count": 43,
   "metadata": {},
   "outputs": [
    {
     "data": {
      "text/plain": [
       "[<matplotlib.lines.Line2D at 0x7f33dc694b00>]"
      ]
     },
     "execution_count": 43,
     "metadata": {},
     "output_type": "execute_result"
    },
    {
     "data": {
      "image/png": "[encoded data removed]",
      "text/plain": [
       "<Figure size 432x288 with 1 Axes>"
      ]
     },
     "metadata": {
      "needs_background": "light"
     },
     "output_type": "display_data"
    }
   ],
   "source": [
    "plt.plot(xtime, ypoint, 's')"
   ]
  },
  {
   "cell_type": "markdown",
   "metadata": {},
   "source": [
    "Model Selection: We've chosen to use a linear regression model because we can't exactly determine a correlation between the points gained and the time it takes to get to 1000, so we go with the suggested model by the assignment"
   ]
  },
  {
   "cell_type": "code",
   "execution_count": null,
   "metadata": {},
   "outputs": [],
   "source": []
  }
 ],
 "metadata": {
  "kernelspec": {
   "display_name": "Python 3",
   "language": "python",
   "name": "python3"
  },
  "language_info": {
   "codemirror_mode": {
    "name": "ipython",
    "version": 3
   },
   "file_extension": ".py",
   "mimetype": "text/x-python",
   "name": "python",
   "nbconvert_exporter": "python",
   "pygments_lexer": "ipython3",
   "version": "3.6.7"
  }
 },
 "nbformat": 4,
 "nbformat_minor": 2
}
